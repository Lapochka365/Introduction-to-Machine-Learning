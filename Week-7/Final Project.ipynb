{
 "cells": [
  {
   "cell_type": "markdown",
   "id": "c9e5e2e5",
   "metadata": {},
   "source": [
    "## Итоговый проект"
   ]
  },
  {
   "cell_type": "markdown",
   "id": "59673152",
   "metadata": {},
   "source": [
    "###### Импорт необходимых библиотек "
   ]
  },
  {
   "cell_type": "code",
   "execution_count": 1,
   "id": "09fb1e0b",
   "metadata": {},
   "outputs": [],
   "source": [
    "import pandas as pd\n",
    "import numpy as np\n",
    "import matplotlib.pyplot as plt\n",
    "from sklearn.model_selection import cross_val_score, KFold\n",
    "from sklearn.preprocessing import StandardScaler\n",
    "from sklearn.linear_model import LogisticRegression\n",
    "from sklearn.ensemble import GradientBoostingClassifier\n",
    "import time\n",
    "import datetime"
   ]
  },
  {
   "cell_type": "markdown",
   "id": "8f5ce96f",
   "metadata": {},
   "source": [
    "### Подход 1: градиентный бустинг \"в лоб\""
   ]
  },
  {
   "cell_type": "markdown",
   "id": "c1a0eb5d",
   "metadata": {},
   "source": [
    "###### 1. Загрузка датасета "
   ]
  },
  {
   "cell_type": "markdown",
   "id": "c18b1e60",
   "metadata": {},
   "source": [
    "В рамках проекта предполагается решить следующую задачу: предсказать итог матча (выиграет команда _Radiant_ или _Dire_) по первым 5 минутам в игре Dota 2. Для решения дана выборка, извлеченная из сжатых текстовых файлов со строчками в формате JSON, где записаны сами матчи. Подробнее о датасете можно узнать на странице [kaggle-соревнования](https://www.kaggle.com/c/dota-2-win-probability-prediction/overview/description)."
   ]
  },
  {
   "cell_type": "code",
   "execution_count": 2,
   "id": "b5c7ad03",
   "metadata": {},
   "outputs": [
    {
     "data": {
      "text/html": [
       "<div>\n",
       "<style scoped>\n",
       "    .dataframe tbody tr th:only-of-type {\n",
       "        vertical-align: middle;\n",
       "    }\n",
       "\n",
       "    .dataframe tbody tr th {\n",
       "        vertical-align: top;\n",
       "    }\n",
       "\n",
       "    .dataframe thead th {\n",
       "        text-align: right;\n",
       "    }\n",
       "</style>\n",
       "<table border=\"1\" class=\"dataframe\">\n",
       "  <thead>\n",
       "    <tr style=\"text-align: right;\">\n",
       "      <th></th>\n",
       "      <th>start_time</th>\n",
       "      <th>lobby_type</th>\n",
       "      <th>r1_hero</th>\n",
       "      <th>r1_level</th>\n",
       "      <th>r1_xp</th>\n",
       "      <th>r1_gold</th>\n",
       "      <th>r1_lh</th>\n",
       "      <th>r1_kills</th>\n",
       "      <th>r1_deaths</th>\n",
       "      <th>r1_items</th>\n",
       "      <th>...</th>\n",
       "      <th>dire_boots_count</th>\n",
       "      <th>dire_ward_observer_count</th>\n",
       "      <th>dire_ward_sentry_count</th>\n",
       "      <th>dire_first_ward_time</th>\n",
       "      <th>duration</th>\n",
       "      <th>radiant_win</th>\n",
       "      <th>tower_status_radiant</th>\n",
       "      <th>tower_status_dire</th>\n",
       "      <th>barracks_status_radiant</th>\n",
       "      <th>barracks_status_dire</th>\n",
       "    </tr>\n",
       "    <tr>\n",
       "      <th>match_id</th>\n",
       "      <th></th>\n",
       "      <th></th>\n",
       "      <th></th>\n",
       "      <th></th>\n",
       "      <th></th>\n",
       "      <th></th>\n",
       "      <th></th>\n",
       "      <th></th>\n",
       "      <th></th>\n",
       "      <th></th>\n",
       "      <th></th>\n",
       "      <th></th>\n",
       "      <th></th>\n",
       "      <th></th>\n",
       "      <th></th>\n",
       "      <th></th>\n",
       "      <th></th>\n",
       "      <th></th>\n",
       "      <th></th>\n",
       "      <th></th>\n",
       "      <th></th>\n",
       "    </tr>\n",
       "  </thead>\n",
       "  <tbody>\n",
       "    <tr>\n",
       "      <th>0</th>\n",
       "      <td>1430198770</td>\n",
       "      <td>7</td>\n",
       "      <td>11</td>\n",
       "      <td>5</td>\n",
       "      <td>2098</td>\n",
       "      <td>1489</td>\n",
       "      <td>20</td>\n",
       "      <td>0</td>\n",
       "      <td>0</td>\n",
       "      <td>7</td>\n",
       "      <td>...</td>\n",
       "      <td>4</td>\n",
       "      <td>2</td>\n",
       "      <td>2</td>\n",
       "      <td>-52.0</td>\n",
       "      <td>2874</td>\n",
       "      <td>1</td>\n",
       "      <td>1796</td>\n",
       "      <td>0</td>\n",
       "      <td>51</td>\n",
       "      <td>0</td>\n",
       "    </tr>\n",
       "    <tr>\n",
       "      <th>1</th>\n",
       "      <td>1430220345</td>\n",
       "      <td>0</td>\n",
       "      <td>42</td>\n",
       "      <td>4</td>\n",
       "      <td>1188</td>\n",
       "      <td>1033</td>\n",
       "      <td>9</td>\n",
       "      <td>0</td>\n",
       "      <td>1</td>\n",
       "      <td>12</td>\n",
       "      <td>...</td>\n",
       "      <td>4</td>\n",
       "      <td>3</td>\n",
       "      <td>1</td>\n",
       "      <td>-5.0</td>\n",
       "      <td>2463</td>\n",
       "      <td>1</td>\n",
       "      <td>1974</td>\n",
       "      <td>0</td>\n",
       "      <td>63</td>\n",
       "      <td>1</td>\n",
       "    </tr>\n",
       "    <tr>\n",
       "      <th>2</th>\n",
       "      <td>1430227081</td>\n",
       "      <td>7</td>\n",
       "      <td>33</td>\n",
       "      <td>4</td>\n",
       "      <td>1319</td>\n",
       "      <td>1270</td>\n",
       "      <td>22</td>\n",
       "      <td>0</td>\n",
       "      <td>0</td>\n",
       "      <td>12</td>\n",
       "      <td>...</td>\n",
       "      <td>4</td>\n",
       "      <td>3</td>\n",
       "      <td>1</td>\n",
       "      <td>13.0</td>\n",
       "      <td>2130</td>\n",
       "      <td>0</td>\n",
       "      <td>0</td>\n",
       "      <td>1830</td>\n",
       "      <td>0</td>\n",
       "      <td>63</td>\n",
       "    </tr>\n",
       "    <tr>\n",
       "      <th>3</th>\n",
       "      <td>1430263531</td>\n",
       "      <td>1</td>\n",
       "      <td>29</td>\n",
       "      <td>4</td>\n",
       "      <td>1779</td>\n",
       "      <td>1056</td>\n",
       "      <td>14</td>\n",
       "      <td>0</td>\n",
       "      <td>0</td>\n",
       "      <td>5</td>\n",
       "      <td>...</td>\n",
       "      <td>4</td>\n",
       "      <td>2</td>\n",
       "      <td>0</td>\n",
       "      <td>27.0</td>\n",
       "      <td>1459</td>\n",
       "      <td>0</td>\n",
       "      <td>1920</td>\n",
       "      <td>2047</td>\n",
       "      <td>50</td>\n",
       "      <td>63</td>\n",
       "    </tr>\n",
       "    <tr>\n",
       "      <th>4</th>\n",
       "      <td>1430282290</td>\n",
       "      <td>7</td>\n",
       "      <td>13</td>\n",
       "      <td>4</td>\n",
       "      <td>1431</td>\n",
       "      <td>1090</td>\n",
       "      <td>8</td>\n",
       "      <td>1</td>\n",
       "      <td>0</td>\n",
       "      <td>8</td>\n",
       "      <td>...</td>\n",
       "      <td>3</td>\n",
       "      <td>3</td>\n",
       "      <td>0</td>\n",
       "      <td>-16.0</td>\n",
       "      <td>2449</td>\n",
       "      <td>0</td>\n",
       "      <td>4</td>\n",
       "      <td>1974</td>\n",
       "      <td>3</td>\n",
       "      <td>63</td>\n",
       "    </tr>\n",
       "  </tbody>\n",
       "</table>\n",
       "<p>5 rows × 108 columns</p>\n",
       "</div>"
      ],
      "text/plain": [
       "          start_time  lobby_type  r1_hero  r1_level  r1_xp  r1_gold  r1_lh  \\\n",
       "match_id                                                                     \n",
       "0         1430198770           7       11         5   2098     1489     20   \n",
       "1         1430220345           0       42         4   1188     1033      9   \n",
       "2         1430227081           7       33         4   1319     1270     22   \n",
       "3         1430263531           1       29         4   1779     1056     14   \n",
       "4         1430282290           7       13         4   1431     1090      8   \n",
       "\n",
       "          r1_kills  r1_deaths  r1_items  ...  dire_boots_count  \\\n",
       "match_id                                 ...                     \n",
       "0                0          0         7  ...                 4   \n",
       "1                0          1        12  ...                 4   \n",
       "2                0          0        12  ...                 4   \n",
       "3                0          0         5  ...                 4   \n",
       "4                1          0         8  ...                 3   \n",
       "\n",
       "          dire_ward_observer_count  dire_ward_sentry_count  \\\n",
       "match_id                                                     \n",
       "0                                2                       2   \n",
       "1                                3                       1   \n",
       "2                                3                       1   \n",
       "3                                2                       0   \n",
       "4                                3                       0   \n",
       "\n",
       "          dire_first_ward_time  duration  radiant_win  tower_status_radiant  \\\n",
       "match_id                                                                      \n",
       "0                        -52.0      2874            1                  1796   \n",
       "1                         -5.0      2463            1                  1974   \n",
       "2                         13.0      2130            0                     0   \n",
       "3                         27.0      1459            0                  1920   \n",
       "4                        -16.0      2449            0                     4   \n",
       "\n",
       "          tower_status_dire  barracks_status_radiant  barracks_status_dire  \n",
       "match_id                                                                    \n",
       "0                         0                       51                     0  \n",
       "1                         0                       63                     1  \n",
       "2                      1830                        0                    63  \n",
       "3                      2047                       50                    63  \n",
       "4                      1974                        3                    63  \n",
       "\n",
       "[5 rows x 108 columns]"
      ]
     },
     "execution_count": 2,
     "metadata": {},
     "output_type": "execute_result"
    }
   ],
   "source": [
    "train_df = pd.read_csv('features.csv', index_col='match_id')\n",
    "train_df.head()"
   ]
  },
  {
   "cell_type": "code",
   "execution_count": 3,
   "id": "e97cad51",
   "metadata": {},
   "outputs": [
    {
     "name": "stdout",
     "output_type": "stream",
     "text": [
      "\u001b[1mСписок всех признаков в датасете:\u001b[0m\n",
      "['start_time', 'lobby_type', 'r1_hero', 'r1_level', 'r1_xp', 'r1_gold', 'r1_lh', 'r1_kills', 'r1_deaths', 'r1_items', 'r2_hero', 'r2_level', 'r2_xp', 'r2_gold', 'r2_lh', 'r2_kills', 'r2_deaths', 'r2_items', 'r3_hero', 'r3_level', 'r3_xp', 'r3_gold', 'r3_lh', 'r3_kills', 'r3_deaths', 'r3_items', 'r4_hero', 'r4_level', 'r4_xp', 'r4_gold', 'r4_lh', 'r4_kills', 'r4_deaths', 'r4_items', 'r5_hero', 'r5_level', 'r5_xp', 'r5_gold', 'r5_lh', 'r5_kills', 'r5_deaths', 'r5_items', 'd1_hero', 'd1_level', 'd1_xp', 'd1_gold', 'd1_lh', 'd1_kills', 'd1_deaths', 'd1_items', 'd2_hero', 'd2_level', 'd2_xp', 'd2_gold', 'd2_lh', 'd2_kills', 'd2_deaths', 'd2_items', 'd3_hero', 'd3_level', 'd3_xp', 'd3_gold', 'd3_lh', 'd3_kills', 'd3_deaths', 'd3_items', 'd4_hero', 'd4_level', 'd4_xp', 'd4_gold', 'd4_lh', 'd4_kills', 'd4_deaths', 'd4_items', 'd5_hero', 'd5_level', 'd5_xp', 'd5_gold', 'd5_lh', 'd5_kills', 'd5_deaths', 'd5_items', 'first_blood_time', 'first_blood_team', 'first_blood_player1', 'first_blood_player2', 'radiant_bottle_time', 'radiant_courier_time', 'radiant_flying_courier_time', 'radiant_tpscroll_count', 'radiant_boots_count', 'radiant_ward_observer_count', 'radiant_ward_sentry_count', 'radiant_first_ward_time', 'dire_bottle_time', 'dire_courier_time', 'dire_flying_courier_time', 'dire_tpscroll_count', 'dire_boots_count', 'dire_ward_observer_count', 'dire_ward_sentry_count', 'dire_first_ward_time', 'duration', 'radiant_win', 'tower_status_radiant', 'tower_status_dire', 'barracks_status_radiant', 'barracks_status_dire']\n"
     ]
    }
   ],
   "source": [
    "print('\\033[1m' + 'Список всех признаков в датасете:' + '\\033[0m')\n",
    "print([*train_df.columns])"
   ]
  },
  {
   "cell_type": "markdown",
   "id": "c9670260",
   "metadata": {},
   "source": [
    "Признаки были заранее выбраны из сырых данных составителями задания. Однако, не все из них нужны для последующего обучения, так как несут в себе скорее пагубное влияние. Имеются в виду последние 5 признаков (за исключнием целевого признака __radiant_win__), которые будут удалены, чтобы в последующем модель не переобучилась."
   ]
  },
  {
   "cell_type": "code",
   "execution_count": 4,
   "id": "d8a4ee43",
   "metadata": {},
   "outputs": [
    {
     "data": {
      "text/html": [
       "<div>\n",
       "<style scoped>\n",
       "    .dataframe tbody tr th:only-of-type {\n",
       "        vertical-align: middle;\n",
       "    }\n",
       "\n",
       "    .dataframe tbody tr th {\n",
       "        vertical-align: top;\n",
       "    }\n",
       "\n",
       "    .dataframe thead th {\n",
       "        text-align: right;\n",
       "    }\n",
       "</style>\n",
       "<table border=\"1\" class=\"dataframe\">\n",
       "  <thead>\n",
       "    <tr style=\"text-align: right;\">\n",
       "      <th></th>\n",
       "      <th>start_time</th>\n",
       "      <th>lobby_type</th>\n",
       "      <th>r1_hero</th>\n",
       "      <th>r1_level</th>\n",
       "      <th>r1_xp</th>\n",
       "      <th>r1_gold</th>\n",
       "      <th>r1_lh</th>\n",
       "      <th>r1_kills</th>\n",
       "      <th>r1_deaths</th>\n",
       "      <th>r1_items</th>\n",
       "      <th>...</th>\n",
       "      <th>radiant_first_ward_time</th>\n",
       "      <th>dire_bottle_time</th>\n",
       "      <th>dire_courier_time</th>\n",
       "      <th>dire_flying_courier_time</th>\n",
       "      <th>dire_tpscroll_count</th>\n",
       "      <th>dire_boots_count</th>\n",
       "      <th>dire_ward_observer_count</th>\n",
       "      <th>dire_ward_sentry_count</th>\n",
       "      <th>dire_first_ward_time</th>\n",
       "      <th>radiant_win</th>\n",
       "    </tr>\n",
       "    <tr>\n",
       "      <th>match_id</th>\n",
       "      <th></th>\n",
       "      <th></th>\n",
       "      <th></th>\n",
       "      <th></th>\n",
       "      <th></th>\n",
       "      <th></th>\n",
       "      <th></th>\n",
       "      <th></th>\n",
       "      <th></th>\n",
       "      <th></th>\n",
       "      <th></th>\n",
       "      <th></th>\n",
       "      <th></th>\n",
       "      <th></th>\n",
       "      <th></th>\n",
       "      <th></th>\n",
       "      <th></th>\n",
       "      <th></th>\n",
       "      <th></th>\n",
       "      <th></th>\n",
       "      <th></th>\n",
       "    </tr>\n",
       "  </thead>\n",
       "  <tbody>\n",
       "    <tr>\n",
       "      <th>0</th>\n",
       "      <td>1430198770</td>\n",
       "      <td>7</td>\n",
       "      <td>11</td>\n",
       "      <td>5</td>\n",
       "      <td>2098</td>\n",
       "      <td>1489</td>\n",
       "      <td>20</td>\n",
       "      <td>0</td>\n",
       "      <td>0</td>\n",
       "      <td>7</td>\n",
       "      <td>...</td>\n",
       "      <td>35.0</td>\n",
       "      <td>103.0</td>\n",
       "      <td>-84.0</td>\n",
       "      <td>221.0</td>\n",
       "      <td>3</td>\n",
       "      <td>4</td>\n",
       "      <td>2</td>\n",
       "      <td>2</td>\n",
       "      <td>-52.0</td>\n",
       "      <td>1</td>\n",
       "    </tr>\n",
       "    <tr>\n",
       "      <th>1</th>\n",
       "      <td>1430220345</td>\n",
       "      <td>0</td>\n",
       "      <td>42</td>\n",
       "      <td>4</td>\n",
       "      <td>1188</td>\n",
       "      <td>1033</td>\n",
       "      <td>9</td>\n",
       "      <td>0</td>\n",
       "      <td>1</td>\n",
       "      <td>12</td>\n",
       "      <td>...</td>\n",
       "      <td>-20.0</td>\n",
       "      <td>149.0</td>\n",
       "      <td>-84.0</td>\n",
       "      <td>195.0</td>\n",
       "      <td>5</td>\n",
       "      <td>4</td>\n",
       "      <td>3</td>\n",
       "      <td>1</td>\n",
       "      <td>-5.0</td>\n",
       "      <td>1</td>\n",
       "    </tr>\n",
       "    <tr>\n",
       "      <th>2</th>\n",
       "      <td>1430227081</td>\n",
       "      <td>7</td>\n",
       "      <td>33</td>\n",
       "      <td>4</td>\n",
       "      <td>1319</td>\n",
       "      <td>1270</td>\n",
       "      <td>22</td>\n",
       "      <td>0</td>\n",
       "      <td>0</td>\n",
       "      <td>12</td>\n",
       "      <td>...</td>\n",
       "      <td>-39.0</td>\n",
       "      <td>45.0</td>\n",
       "      <td>-77.0</td>\n",
       "      <td>221.0</td>\n",
       "      <td>3</td>\n",
       "      <td>4</td>\n",
       "      <td>3</td>\n",
       "      <td>1</td>\n",
       "      <td>13.0</td>\n",
       "      <td>0</td>\n",
       "    </tr>\n",
       "    <tr>\n",
       "      <th>3</th>\n",
       "      <td>1430263531</td>\n",
       "      <td>1</td>\n",
       "      <td>29</td>\n",
       "      <td>4</td>\n",
       "      <td>1779</td>\n",
       "      <td>1056</td>\n",
       "      <td>14</td>\n",
       "      <td>0</td>\n",
       "      <td>0</td>\n",
       "      <td>5</td>\n",
       "      <td>...</td>\n",
       "      <td>-30.0</td>\n",
       "      <td>124.0</td>\n",
       "      <td>-80.0</td>\n",
       "      <td>184.0</td>\n",
       "      <td>0</td>\n",
       "      <td>4</td>\n",
       "      <td>2</td>\n",
       "      <td>0</td>\n",
       "      <td>27.0</td>\n",
       "      <td>0</td>\n",
       "    </tr>\n",
       "    <tr>\n",
       "      <th>4</th>\n",
       "      <td>1430282290</td>\n",
       "      <td>7</td>\n",
       "      <td>13</td>\n",
       "      <td>4</td>\n",
       "      <td>1431</td>\n",
       "      <td>1090</td>\n",
       "      <td>8</td>\n",
       "      <td>1</td>\n",
       "      <td>0</td>\n",
       "      <td>8</td>\n",
       "      <td>...</td>\n",
       "      <td>46.0</td>\n",
       "      <td>182.0</td>\n",
       "      <td>-80.0</td>\n",
       "      <td>225.0</td>\n",
       "      <td>6</td>\n",
       "      <td>3</td>\n",
       "      <td>3</td>\n",
       "      <td>0</td>\n",
       "      <td>-16.0</td>\n",
       "      <td>0</td>\n",
       "    </tr>\n",
       "  </tbody>\n",
       "</table>\n",
       "<p>5 rows × 103 columns</p>\n",
       "</div>"
      ],
      "text/plain": [
       "          start_time  lobby_type  r1_hero  r1_level  r1_xp  r1_gold  r1_lh  \\\n",
       "match_id                                                                     \n",
       "0         1430198770           7       11         5   2098     1489     20   \n",
       "1         1430220345           0       42         4   1188     1033      9   \n",
       "2         1430227081           7       33         4   1319     1270     22   \n",
       "3         1430263531           1       29         4   1779     1056     14   \n",
       "4         1430282290           7       13         4   1431     1090      8   \n",
       "\n",
       "          r1_kills  r1_deaths  r1_items  ...  radiant_first_ward_time  \\\n",
       "match_id                                 ...                            \n",
       "0                0          0         7  ...                     35.0   \n",
       "1                0          1        12  ...                    -20.0   \n",
       "2                0          0        12  ...                    -39.0   \n",
       "3                0          0         5  ...                    -30.0   \n",
       "4                1          0         8  ...                     46.0   \n",
       "\n",
       "          dire_bottle_time  dire_courier_time  dire_flying_courier_time  \\\n",
       "match_id                                                                  \n",
       "0                    103.0              -84.0                     221.0   \n",
       "1                    149.0              -84.0                     195.0   \n",
       "2                     45.0              -77.0                     221.0   \n",
       "3                    124.0              -80.0                     184.0   \n",
       "4                    182.0              -80.0                     225.0   \n",
       "\n",
       "          dire_tpscroll_count  dire_boots_count  dire_ward_observer_count  \\\n",
       "match_id                                                                    \n",
       "0                           3                 4                         2   \n",
       "1                           5                 4                         3   \n",
       "2                           3                 4                         3   \n",
       "3                           0                 4                         2   \n",
       "4                           6                 3                         3   \n",
       "\n",
       "          dire_ward_sentry_count  dire_first_ward_time  radiant_win  \n",
       "match_id                                                             \n",
       "0                              2                 -52.0            1  \n",
       "1                              1                  -5.0            1  \n",
       "2                              1                  13.0            0  \n",
       "3                              0                  27.0            0  \n",
       "4                              0                 -16.0            0  \n",
       "\n",
       "[5 rows x 103 columns]"
      ]
     },
     "execution_count": 4,
     "metadata": {},
     "output_type": "execute_result"
    }
   ],
   "source": [
    "train_df = train_df.drop(['duration', \n",
    "                          'tower_status_radiant', \n",
    "                          'tower_status_dire',\n",
    "                          'barracks_status_radiant',\n",
    "                          'barracks_status_dire'], axis=1)\n",
    "train_df.head()"
   ]
  },
  {
   "cell_type": "markdown",
   "id": "9b6d22e2",
   "metadata": {},
   "source": [
    "Перейдем к анализу самих данных: для начала посмотрим, имеются ли пропуски."
   ]
  },
  {
   "cell_type": "markdown",
   "id": "96efbca9",
   "metadata": {},
   "source": [
    "###### 2. Наличие пропусков "
   ]
  },
  {
   "cell_type": "code",
   "execution_count": 5,
   "id": "9e02bac1",
   "metadata": {},
   "outputs": [
    {
     "name": "stdout",
     "output_type": "stream",
     "text": [
      "Всего строк в датасете: 97230\n"
     ]
    }
   ],
   "source": [
    "print(f'Всего строк в датасете: {len(train_df)}')"
   ]
  },
  {
   "cell_type": "code",
   "execution_count": 6,
   "id": "277c561b",
   "metadata": {
    "scrolled": true
   },
   "outputs": [
    {
     "data": {
      "text/html": [
       "<div>\n",
       "<style scoped>\n",
       "    .dataframe tbody tr th:only-of-type {\n",
       "        vertical-align: middle;\n",
       "    }\n",
       "\n",
       "    .dataframe tbody tr th {\n",
       "        vertical-align: top;\n",
       "    }\n",
       "\n",
       "    .dataframe thead th {\n",
       "        text-align: right;\n",
       "    }\n",
       "</style>\n",
       "<table border=\"1\" class=\"dataframe\">\n",
       "  <thead>\n",
       "    <tr style=\"text-align: right;\">\n",
       "      <th></th>\n",
       "      <th>col_name</th>\n",
       "      <th>count_of_values</th>\n",
       "    </tr>\n",
       "  </thead>\n",
       "  <tbody>\n",
       "    <tr>\n",
       "      <th>0</th>\n",
       "      <td>first_blood_time</td>\n",
       "      <td>77677.0</td>\n",
       "    </tr>\n",
       "    <tr>\n",
       "      <th>1</th>\n",
       "      <td>first_blood_team</td>\n",
       "      <td>77677.0</td>\n",
       "    </tr>\n",
       "    <tr>\n",
       "      <th>2</th>\n",
       "      <td>first_blood_player1</td>\n",
       "      <td>77677.0</td>\n",
       "    </tr>\n",
       "    <tr>\n",
       "      <th>3</th>\n",
       "      <td>first_blood_player2</td>\n",
       "      <td>53243.0</td>\n",
       "    </tr>\n",
       "    <tr>\n",
       "      <th>4</th>\n",
       "      <td>radiant_bottle_time</td>\n",
       "      <td>81539.0</td>\n",
       "    </tr>\n",
       "    <tr>\n",
       "      <th>5</th>\n",
       "      <td>radiant_courier_time</td>\n",
       "      <td>96538.0</td>\n",
       "    </tr>\n",
       "    <tr>\n",
       "      <th>6</th>\n",
       "      <td>radiant_flying_courier_time</td>\n",
       "      <td>69751.0</td>\n",
       "    </tr>\n",
       "    <tr>\n",
       "      <th>7</th>\n",
       "      <td>radiant_first_ward_time</td>\n",
       "      <td>95394.0</td>\n",
       "    </tr>\n",
       "    <tr>\n",
       "      <th>8</th>\n",
       "      <td>dire_bottle_time</td>\n",
       "      <td>81087.0</td>\n",
       "    </tr>\n",
       "    <tr>\n",
       "      <th>9</th>\n",
       "      <td>dire_courier_time</td>\n",
       "      <td>96554.0</td>\n",
       "    </tr>\n",
       "    <tr>\n",
       "      <th>10</th>\n",
       "      <td>dire_flying_courier_time</td>\n",
       "      <td>71132.0</td>\n",
       "    </tr>\n",
       "    <tr>\n",
       "      <th>11</th>\n",
       "      <td>dire_first_ward_time</td>\n",
       "      <td>95404.0</td>\n",
       "    </tr>\n",
       "  </tbody>\n",
       "</table>\n",
       "</div>"
      ],
      "text/plain": [
       "                       col_name  count_of_values\n",
       "0              first_blood_time          77677.0\n",
       "1              first_blood_team          77677.0\n",
       "2           first_blood_player1          77677.0\n",
       "3           first_blood_player2          53243.0\n",
       "4           radiant_bottle_time          81539.0\n",
       "5          radiant_courier_time          96538.0\n",
       "6   radiant_flying_courier_time          69751.0\n",
       "7       radiant_first_ward_time          95394.0\n",
       "8              dire_bottle_time          81087.0\n",
       "9             dire_courier_time          96554.0\n",
       "10     dire_flying_courier_time          71132.0\n",
       "11         dire_first_ward_time          95404.0"
      ]
     },
     "execution_count": 6,
     "metadata": {},
     "output_type": "execute_result"
    }
   ],
   "source": [
    "# сортировка столбцов так, чтобы оставались только столбцы с пропущенными значениями\n",
    "na_values = pd.DataFrame(train_df.count(), columns=['count_of_values'])\n",
    "na_values_present = na_values.where(na_values.iloc[:, 0] < len(train_df))\n",
    "na_values_present = na_values_present.dropna().reset_index().rename(columns={'index': 'col_name'})\n",
    "na_values_present"
   ]
  },
  {
   "cell_type": "markdown",
   "id": "a58a61d2",
   "metadata": {},
   "source": [
    "Данные пропуски можно объяснить следующим образом: в целом, пропуски значений обусловлены типом лобби, который является одним из признаков. Лобби могут быть как тренировочными или матчем 1vs1, так и полноценными турнирными. Потому, в некоторых лобби в принципе не могло быть такого события, как _first_blood_, происходящий только в случае первого убийства героя одной команды другой. \n",
    "\n",
    "Другие пропуски связаны с получением предмета одной или другой командой. То есть в некоторых боях могло случиться так, что команда попросту не приобретала данный предмет вовсе за весь матч, что может происходить по целому ряду причин, в том числе по причине самого типа лобби."
   ]
  },
  {
   "cell_type": "markdown",
   "id": "c0fc8da2",
   "metadata": {},
   "source": [
    "###### 3. Замена пропусков "
   ]
  },
  {
   "cell_type": "markdown",
   "id": "9055bbbf",
   "metadata": {},
   "source": [
    "Пропуски можно заменить несколькими способами: \n",
    "- заменить их на 0, чтобы данные позиции у объектов не учитывались (в случае с линейными классификаторами); \n",
    "- заменить их на большие значения, которых нет в других объектах выборки (таким образом, данные позиции будут учитываться отдельно классификаторами типа случайного леса); \n",
    "- заменить их на среднее значение по признаку, либо же наиболее популярное значение, если это категориальный или порядковый признак."
   ]
  },
  {
   "cell_type": "markdown",
   "id": "41aeb399",
   "metadata": {},
   "source": [
    "Попробуем реализовать все три возможных варианта."
   ]
  },
  {
   "cell_type": "markdown",
   "id": "bb41e49d",
   "metadata": {},
   "source": [
    "_Замена пропусков на 0_"
   ]
  },
  {
   "cell_type": "code",
   "execution_count": 7,
   "id": "4c5330ba",
   "metadata": {},
   "outputs": [
    {
     "name": "stdout",
     "output_type": "stream",
     "text": [
      "Осталось пропуски? - False\n"
     ]
    }
   ],
   "source": [
    "list_of_cols_na = na_values_present.iloc[:, 0].to_numpy()\n",
    "train_df_0 = train_df.copy()\n",
    "for cols in list_of_cols_na:\n",
    "    train_df_0[cols].fillna(0, inplace=True)\n",
    "print('Осталось пропуски? -', train_df_0.isnull().values.any())"
   ]
  },
  {
   "cell_type": "markdown",
   "id": "a9a94bbe",
   "metadata": {},
   "source": [
    "_Замена пропусков на большие значения_ "
   ]
  },
  {
   "cell_type": "code",
   "execution_count": 8,
   "id": "cde6cac1",
   "metadata": {},
   "outputs": [
    {
     "name": "stdout",
     "output_type": "stream",
     "text": [
      "Остались пропуски? - False\n"
     ]
    }
   ],
   "source": [
    "train_df_large_values = train_df.copy()\n",
    "for cols in list_of_cols_na:\n",
    "    train_df_large_values[cols].fillna(999999999, inplace=True)\n",
    "print('Остались пропуски? -', train_df_large_values.isnull().values.any())"
   ]
  },
  {
   "cell_type": "markdown",
   "id": "4de5d954",
   "metadata": {},
   "source": [
    "_Замена пропусков на среднее значение по признаку_"
   ]
  },
  {
   "cell_type": "code",
   "execution_count": 9,
   "id": "7fb908cd",
   "metadata": {},
   "outputs": [
    {
     "name": "stdout",
     "output_type": "stream",
     "text": [
      "Остались пропуски? - False\n"
     ]
    }
   ],
   "source": [
    "train_df_mean = train_df.copy()\n",
    "for cols in list_of_cols_na:\n",
    "    mean_value = np.mean(train_df_mean[cols])\n",
    "    train_df_mean[cols].fillna(mean_value, inplace=True)\n",
    "print('Остались пропуски? -', train_df_mean.isnull().values.any())"
   ]
  },
  {
   "cell_type": "markdown",
   "id": "fd8558fd",
   "metadata": {},
   "source": [
    "Мы заменили пропуски различными способами и далее узнаем, какой метод оказался наиболее подходящим под ту или иную выбранную модель."
   ]
  },
  {
   "cell_type": "markdown",
   "id": "6de379f7",
   "metadata": {},
   "source": [
    "###### 4. Целевая переменная "
   ]
  },
  {
   "cell_type": "markdown",
   "id": "f9783470",
   "metadata": {},
   "source": [
    "Нашей целевой переменной является последний столбец - _radiant_win_, который указывает на победу или поражение команды _radiant_. Также отдельно следует подготовить матрицу признаков."
   ]
  },
  {
   "cell_type": "code",
   "execution_count": 10,
   "id": "43e87eb7",
   "metadata": {},
   "outputs": [],
   "source": [
    "y = train_df['radiant_win']\n",
    "\n",
    "X_0 = train_df_0.drop(columns='radiant_win')\n",
    "X_large_values = train_df_large_values.drop(columns='radiant_win')\n",
    "X_mean = train_df_mean.drop(columns='radiant_win')"
   ]
  },
  {
   "cell_type": "markdown",
   "id": "40552d89",
   "metadata": {},
   "source": [
    "###### 5. Обучение модели градиентного бустинга "
   ]
  },
  {
   "cell_type": "markdown",
   "id": "358df879",
   "metadata": {},
   "source": [
    "В качестве первой модели будет использован градиентный бустинг. Оценку качества модели будем производить при помощи кросс-валидации на 5 фолдов с перемешиванием выборки, метрикой качества будет служить ROC-AUC или площадь под ROC-кривой."
   ]
  },
  {
   "cell_type": "code",
   "execution_count": 11,
   "id": "a3e7d51b",
   "metadata": {},
   "outputs": [],
   "source": [
    "cv = KFold(n_splits=5, shuffle=True)\n",
    "\n",
    "classifier = GradientBoostingClassifier()"
   ]
  },
  {
   "cell_type": "markdown",
   "id": "617b11a9",
   "metadata": {},
   "source": [
    "Посмотрим, каким образом все-таки влияет замена пропусков в датасете."
   ]
  },
  {
   "cell_type": "markdown",
   "id": "79b39afb",
   "metadata": {},
   "source": [
    "_Оценки качества при различных заменах пропусков_"
   ]
  },
  {
   "cell_type": "markdown",
   "id": "824072ba",
   "metadata": {},
   "source": [
    "__Внимание, следующий код работает крайне долго!__"
   ]
  },
  {
   "cell_type": "code",
   "execution_count": 12,
   "id": "da59e1d7",
   "metadata": {},
   "outputs": [
    {
     "name": "stdout",
     "output_type": "stream",
     "text": [
      "Time elapsed: 0:16:12.192549\n"
     ]
    }
   ],
   "source": [
    "start_time = datetime.datetime.now()\n",
    "\n",
    "scores_with_0 = cross_val_score(classifier, X_0, y, scoring='roc_auc', cv=cv)\n",
    "scores_with_large = cross_val_score(classifier, X_large_values, y, scoring='roc_auc', cv=cv)\n",
    "scores_with_mean = cross_val_score(classifier, X_mean, y, scoring='roc_auc', cv=cv)\n",
    "\n",
    "print('Time elapsed:', datetime.datetime.now() - start_time)"
   ]
  },
  {
   "cell_type": "markdown",
   "id": "b5d374a0",
   "metadata": {},
   "source": [
    "На графике представлено, каким образом распределились оценки качества при кросс-валидации при различных заменах пропусков."
   ]
  },
  {
   "cell_type": "code",
   "execution_count": 13,
   "id": "7fb8070a",
   "metadata": {},
   "outputs": [
    {
     "data": {
      "image/png": "[encoded data removed]",
      "text/plain": [
       "<Figure size 864x576 with 1 Axes>"
      ]
     },
     "metadata": {
      "needs_background": "light"
     },
     "output_type": "display_data"
    }
   ],
   "source": [
    "x = np.arange(1, 6, 1)\n",
    "plt.figure(figsize=(12,8))\n",
    "plt.plot(x, scores_with_0, marker='o',color='b', label='Замена пропусков на 0', alpha=0.8)\n",
    "plt.plot(x, scores_with_large, marker='o', color='r', label='Замена пропусков на большие значения')\n",
    "plt.plot(x, scores_with_mean, marker='o', color='g', alpha=0.8, label='Замена пропусков на среднее значение по признаку')\n",
    "plt.xlabel('№ фолда при кросс-валидации', fontsize=14)\n",
    "plt.ylabel('Оценка качества - ROC-AUC', fontsize=14)\n",
    "plt.title('Оценки качества при различных заменах пропусков', fontsize=16)\n",
    "plt.xticks(fontsize=14)\n",
    "plt.yticks(fontsize=14)\n",
    "plt.legend(fontsize=14)\n",
    "plt.grid(alpha=0.3)\n",
    "plt.tight_layout()\n",
    "plt.show()"
   ]
  },
  {
   "cell_type": "markdown",
   "id": "388e44e2",
   "metadata": {},
   "source": [
    "Как демонстрирует график, оценки качества хаотичным образом распределились между собой и имеются некоторые различия. Тем не менее, в целом оценка качества колеблется в одних и тех же пределах, что подтверждается далее средним значением по кросс-валидации:"
   ]
  },
  {
   "cell_type": "code",
   "execution_count": 14,
   "id": "cf1e34f6",
   "metadata": {
    "scrolled": true
   },
   "outputs": [
    {
     "name": "stdout",
     "output_type": "stream",
     "text": [
      "Среднее значение ROC-AUC при замене пропусков на 0: 0.70645\n",
      "Среднее значение ROC-AUC при замене пропусков на большое значение: 0.7071\n",
      "Среднее значение ROC-AUC при замене пропусков на среднее значение по признаку: 0.70615\n"
     ]
    }
   ],
   "source": [
    "print(f'Среднее значение ROC-AUC при замене пропусков на 0: {round(scores_with_0.mean(), 5)}')\n",
    "print(f'Среднее значение ROC-AUC при замене пропусков на большое значение: {round(scores_with_large.mean(), 5)}')\n",
    "print(f'Среднее значение ROC-AUC при замене пропусков на среднее значение по признаку: {round(scores_with_mean.mean(), 5)}')"
   ]
  },
  {
   "cell_type": "markdown",
   "id": "53ce57ba",
   "metadata": {},
   "source": [
    "Заметно, что среднее качество практически идентично. Тем не менее, лучше заменять пропуски либо на 0, либо же на большое значение."
   ]
  },
  {
   "cell_type": "markdown",
   "id": "1d63cc4e",
   "metadata": {},
   "source": [
    "_Оценки качества при различном числе решающих деревьев_"
   ]
  },
  {
   "cell_type": "markdown",
   "id": "ab7519bd",
   "metadata": {},
   "source": [
    "Теперь можно перейти к оценке качества при помощи метрики ROC-AUC при различных значениях числа решающих деревьев у градиентного бустинга. Данные будем использовать с заменой пропусков на 0."
   ]
  },
  {
   "cell_type": "code",
   "execution_count": 15,
   "id": "4c7e6c9d",
   "metadata": {},
   "outputs": [
    {
     "name": "stdout",
     "output_type": "stream",
     "text": [
      "Time elapsed: 0:11:57.046354\n"
     ]
    }
   ],
   "source": [
    "start_time = datetime.datetime.now()\n",
    "\n",
    "cv = KFold(n_splits=5, shuffle=True)\n",
    "n_trees = [10, 20, 30, 50, 100]\n",
    "scores = []\n",
    "for tree in n_trees:\n",
    "    classifier = GradientBoostingClassifier(n_estimators=tree)\n",
    "    score = cross_val_score(classifier, X_0, y, scoring='roc_auc', cv=cv)\n",
    "    scores.append(score.mean())\n",
    "    \n",
    "print('Time elapsed:', datetime.datetime.now() - start_time)"
   ]
  },
  {
   "cell_type": "markdown",
   "id": "f71ed899",
   "metadata": {},
   "source": [
    "Классификаторы обучались значительное время, что уже было выяснено ранее. Все это в том числе объясняется значительной выборкой и отсутствием какой-либо предобработки категориальных признаков. "
   ]
  },
  {
   "cell_type": "markdown",
   "id": "2e71f554",
   "metadata": {},
   "source": [
    "Посмотрим, какое максимальное итоговое качество и при каком числе деревьев показал градиентный бустинг. "
   ]
  },
  {
   "cell_type": "code",
   "execution_count": 16,
   "id": "4433acc4",
   "metadata": {},
   "outputs": [
    {
     "data": {
      "image/png": "[encoded data removed]",
      "text/plain": [
       "<Figure size 864x576 with 1 Axes>"
      ]
     },
     "metadata": {
      "needs_background": "light"
     },
     "output_type": "display_data"
    }
   ],
   "source": [
    "x = n_trees\n",
    "plt.figure(figsize=(12,8))\n",
    "plt.plot(x, scores, marker='o',color='g', alpha=0.8)\n",
    "plt.xlabel('Количество деревьев', fontsize=14)\n",
    "plt.ylabel('Оценка качества - ROC-AUC', fontsize=14)\n",
    "plt.title('Оценки качества при различном количестве решающих деревьев', fontsize=16)\n",
    "plt.xticks(np.arange(10, 110, 10), fontsize=14)\n",
    "plt.yticks(np.arange(0.66, 0.72, 0.01), fontsize=14)\n",
    "plt.grid(alpha=0.3)\n",
    "plt.tight_layout()\n",
    "plt.show()"
   ]
  },
  {
   "cell_type": "markdown",
   "id": "e24db645",
   "metadata": {},
   "source": [
    "Можно заметить, что качество понемногу, но росло с увеличением количества деревьев, но больше всего росло на первых нескольких десятках. Более того, качество продолжит расти несколько меньшими темпами и далее, если еще увеличить количество деревьев в градиентном бустинге. "
   ]
  },
  {
   "cell_type": "markdown",
   "id": "778df280",
   "metadata": {},
   "source": [
    "###### Отчет по этапу"
   ]
  },
  {
   "cell_type": "markdown",
   "id": "f298263a",
   "metadata": {},
   "source": [
    "1. Пропуски имеют следующие признаки: _first_blood_time, first_blood_team, first_blood_player1, first_blood_player2, radiant_bottle_time, radiant_courier_time, radiant_flying_courier_time, radiant_first_ward_time, dire_bottle_time, dire_courier_time, dire_flying_courier_time, dire_first_ward_time._ В целом, пропуски значений обусловлены типом лобби, который является одним из признаков. Лобби могут быть как тренировочными или матчем 1vs1, так и полноценными турнирными. Потому, в некоторых лобби в принципе не могло быть такого события, как _first_blood_, происходящий только в случае первого убийства героя одной команды другой. Другие пропуски связаны с получением предмета одной или другой командой. То есть в некоторых боях могло случиться так, что команда попросту не приобретала данный предмет вовсе за весь матч, что может происходить по целому ряду причин, в том числе по причине самого типа лобби.\n",
    "\n",
    "\n",
    "2. Целевой переменной является последний столбец - _radiant_win_, который указывает на победу или поражение команды _radiant_.\n",
    "\n",
    "\n",
    "3. Общее время, которое было потрачено на обучение градиентного бустинга при значениях количества деревьев, равных 10, 20, 30, 50 и 100 заняло около 11 минут. Это достаточно большой промежуток времени, в то же время объясняется это, в том числе, размером самой выборки. Наилучшее качество, то есть площадь под ROC-кривой, показал градиентный бустинг со 100 деревьями - 0.706.\n",
    "\n",
    "\n",
    "4. Можно использовать более, чем 30 деревьев в градиентном бустинге, однако это будет занимать больше времени на обучение. В данном случае, наиболее действенным вариантом будет уменьшить размер выборки, то есть случайным образом уменьшить выборку на, например, 25%."
   ]
  },
  {
   "cell_type": "markdown",
   "id": "533a5d59",
   "metadata": {},
   "source": [
    "### Подход 2: логистическая регрессия "
   ]
  },
  {
   "cell_type": "markdown",
   "id": "4b79c7df",
   "metadata": {},
   "source": [
    "Воспользуемся алгоритмом логистической регрессии для ускорения времени на обучение и также для понимания работы линейных алгоритмов в данной задаче."
   ]
  },
  {
   "cell_type": "markdown",
   "id": "1edc2fbc",
   "metadata": {},
   "source": [
    "Для начала, для более корректной работы линейного алгоритма, отмасштабируем данные. Воспользуемся выборкой, где пропуски были заменены на 0."
   ]
  },
  {
   "cell_type": "code",
   "execution_count": 17,
   "id": "46e7175e",
   "metadata": {},
   "outputs": [],
   "source": [
    "scaler = StandardScaler()\n",
    "X_transformed = scaler.fit_transform(X_0)"
   ]
  },
  {
   "cell_type": "markdown",
   "id": "04467da4",
   "metadata": {},
   "source": [
    "Создадим новую модель с логистической регрессией и на кросс-валидации рассмотрим, при каком параметре регуляризации C модель покажет наилучший результат."
   ]
  },
  {
   "cell_type": "markdown",
   "id": "a4e9215e",
   "metadata": {},
   "source": [
    "###### 1. Модель логистической регрессии с подбором С"
   ]
  },
  {
   "cell_type": "code",
   "execution_count": 18,
   "id": "bebda578",
   "metadata": {},
   "outputs": [
    {
     "name": "stdout",
     "output_type": "stream",
     "text": [
      "Time elapsed: 0:00:16.224037\n"
     ]
    }
   ],
   "source": [
    "start_time = datetime.datetime.now()\n",
    "\n",
    "C = [0.1, 0.5, 1.0, 1.5, 2.0]\n",
    "cv = KFold(n_splits=5, shuffle=True)\n",
    "scores = []\n",
    "for c in C:\n",
    "    classifier = LogisticRegression(penalty='l2', C=c)\n",
    "    score = cross_val_score(classifier, X_transformed, y, scoring='roc_auc', cv=cv)\n",
    "    scores.append(score.mean())\n",
    "\n",
    "print('Time elapsed:', datetime.datetime.now() - start_time)"
   ]
  },
  {
   "cell_type": "markdown",
   "id": "8ca83f6a",
   "metadata": {},
   "source": [
    "Как видно из результатов по времени, логистической регрессии удалось гораздо быстрее обучиться на данных."
   ]
  },
  {
   "cell_type": "markdown",
   "id": "398a692b",
   "metadata": {},
   "source": [
    "Рассмотрим, каким образом изменялось качество модели при различном параметре С."
   ]
  },
  {
   "cell_type": "code",
   "execution_count": 19,
   "id": "4e7ed527",
   "metadata": {},
   "outputs": [
    {
     "data": {
      "image/png": "[encoded data removed]",
      "text/plain": [
       "<Figure size 864x576 with 1 Axes>"
      ]
     },
     "metadata": {
      "needs_background": "light"
     },
     "output_type": "display_data"
    }
   ],
   "source": [
    "x = C\n",
    "plt.figure(figsize=(12,8))\n",
    "plt.plot(x, scores, marker='o',color='g', alpha=0.8)\n",
    "plt.xlabel('Значение С-коэффициента', fontsize=14)\n",
    "plt.ylabel('Оценка качества - ROC-AUC', fontsize=14)\n",
    "plt.title('Оценки качества при различных значениях С', fontsize=16)\n",
    "plt.xticks(C, fontsize=14)\n",
    "plt.yticks(np.arange(0.6, 0.8, 0.04), fontsize=14)\n",
    "plt.grid(alpha=0.3)\n",
    "plt.tight_layout()\n",
    "plt.show()"
   ]
  },
  {
   "cell_type": "code",
   "execution_count": 20,
   "id": "42aa37f1",
   "metadata": {},
   "outputs": [
    {
     "name": "stdout",
     "output_type": "stream",
     "text": [
      "Оценка качества ROC-AUC логистической регрессии: 0.7165\n"
     ]
    }
   ],
   "source": [
    "print(f'Оценка качества ROC-AUC логистической регрессии: {round(scores[0], 4)}')"
   ]
  },
  {
   "cell_type": "markdown",
   "id": "3c83205f",
   "metadata": {},
   "source": [
    "Как заметно из графика, модель никаким образом не меняется по качеству в зависимости от С. Это говорит о том, что существует какой-то ограничивающий фактор в данных, не позволяющий полноценно обобщить датасет моделью. Скорее всего, это связано с наличием категориальных признаков, что будет рассмотрено далее."
   ]
  },
  {
   "cell_type": "markdown",
   "id": "f862860f",
   "metadata": {},
   "source": [
    "В то же время, среднее значение качества вне зависимости от значения С у логистической регрессии оказалось несколько лучше, чем у модели градиентного бустинга. Скорее всего, связано это с природой данных моделей: градиентный бустинг представляет собой композицию из решающих деревьев, которым достаточно тяжело работать не с категориальными признаками (с обычными числовыми); логистическая регрессия является одним из представителей линейных моделей, для которых работа с числовыми признаками наоборот более актуальна."
   ]
  },
  {
   "cell_type": "markdown",
   "id": "9d23c2e6",
   "metadata": {},
   "source": [
    "###### 2. Логистическая регрессия с датасетом без категориальных признаков "
   ]
  },
  {
   "cell_type": "markdown",
   "id": "46c9d8d5",
   "metadata": {},
   "source": [
    "Посмотрим, что изменится с качеством логистической регрессии, если удалить столбцы с категориальными признаками."
   ]
  },
  {
   "cell_type": "code",
   "execution_count": 21,
   "id": "b7c359f7",
   "metadata": {},
   "outputs": [],
   "source": [
    "cat_features = ['lobby_type', \n",
    "                'r1_hero', 'r2_hero', 'r3_hero', 'r4_hero', 'r5_hero', \n",
    "                'd1_hero', 'r2_hero', 'r3_hero', 'r4_hero', 'r5_hero']\n",
    "\n",
    "X_0_cat_removed = X_0.drop(columns=cat_features)\n",
    "scaler_new = StandardScaler()\n",
    "X_0_cat_removed = scaler_new.fit_transform(X_0_cat_removed)"
   ]
  },
  {
   "cell_type": "code",
   "execution_count": 22,
   "id": "81e35f6d",
   "metadata": {},
   "outputs": [
    {
     "name": "stdout",
     "output_type": "stream",
     "text": [
      "Time elapsed: 0:00:13.313512\n"
     ]
    }
   ],
   "source": [
    "start_time = datetime.datetime.now()\n",
    "\n",
    "C = [0.1, 0.5, 1.0, 1.5, 2.0]\n",
    "cv = KFold(n_splits=5, shuffle=True)\n",
    "scores = []\n",
    "for c in C:\n",
    "    classifier = LogisticRegression(penalty='l2', C=c)\n",
    "    score = cross_val_score(classifier, X_0_cat_removed, y, scoring='roc_auc', cv=cv)\n",
    "    scores.append(score.mean())\n",
    "\n",
    "print('Time elapsed:', datetime.datetime.now() - start_time)"
   ]
  },
  {
   "cell_type": "code",
   "execution_count": 23,
   "id": "a5765672",
   "metadata": {},
   "outputs": [
    {
     "data": {
      "image/png": "[encoded data removed]",
      "text/plain": [
       "<Figure size 864x576 with 1 Axes>"
      ]
     },
     "metadata": {
      "needs_background": "light"
     },
     "output_type": "display_data"
    }
   ],
   "source": [
    "x = C\n",
    "plt.figure(figsize=(12,8))\n",
    "plt.plot(x, scores, marker='o',color='g', alpha=0.8)\n",
    "plt.xlabel('Значение С-коэффициента', fontsize=14)\n",
    "plt.ylabel('Оценка качества - ROC-AUC', fontsize=14)\n",
    "plt.title('Оценки качества при различных значениях С после удаления категориальных признаков', fontsize=16)\n",
    "plt.xticks(C, fontsize=14)\n",
    "plt.yticks(np.arange(0.6, 0.8, 0.04), fontsize=14)\n",
    "plt.grid(alpha=0.3)\n",
    "plt.tight_layout()\n",
    "plt.show()"
   ]
  },
  {
   "cell_type": "code",
   "execution_count": 24,
   "id": "218638e9",
   "metadata": {},
   "outputs": [
    {
     "name": "stdout",
     "output_type": "stream",
     "text": [
      "Качество после удаления категориальных признаков: 0.7163\n"
     ]
    }
   ],
   "source": [
    "print(f'Качество после удаления категориальных признаков: {round(scores[0], 4)}')"
   ]
  },
  {
   "cell_type": "markdown",
   "id": "11453dea",
   "metadata": {},
   "source": [
    "Мы видим, что качество модели после удаления категориальных признаков ничуть не изменилось. То есть, можно предположить, что мы уперлись в своего рода бутылочное горлышко, с которым можно разобраться, если дополнительно видоизменить категориальные признаки."
   ]
  },
  {
   "cell_type": "markdown",
   "id": "cbf73016",
   "metadata": {},
   "source": [
    "###### 3. Количество уникальных значений некоторых категориальных признаков"
   ]
  },
  {
   "cell_type": "markdown",
   "id": "e1a71cc4",
   "metadata": {},
   "source": [
    "Необходимо подробнее проанализировать категориальные признаки. А именно те, которые отвечают за героя, которым управляет тот или иной игрок."
   ]
  },
  {
   "cell_type": "markdown",
   "id": "81db03b5",
   "metadata": {},
   "source": [
    "На примере одного из таких признаков посмотрим, сколько всего возможных значений существует у данных категориальных признаков."
   ]
  },
  {
   "cell_type": "code",
   "execution_count": 25,
   "id": "beb6f8bb",
   "metadata": {
    "scrolled": true
   },
   "outputs": [
    {
     "name": "stdout",
     "output_type": "stream",
     "text": [
      "Количество уникальных значений в признаке: 108\n"
     ]
    },
    {
     "data": {
      "text/plain": [
       "array([  1,   2,   3,   4,   5,   6,   7,   8,   9,  10,  11,  12,  13,\n",
       "        14,  15,  16,  17,  18,  19,  20,  21,  22,  23,  25,  26,  27,\n",
       "        28,  29,  30,  31,  32,  33,  34,  35,  36,  37,  38,  39,  40,\n",
       "        41,  42,  43,  44,  45,  46,  47,  48,  49,  50,  51,  52,  53,\n",
       "        54,  55,  56,  57,  58,  59,  60,  61,  62,  63,  64,  65,  66,\n",
       "        67,  68,  69,  70,  71,  72,  73,  74,  75,  76,  77,  78,  79,\n",
       "        80,  81,  82,  83,  84,  85,  86,  87,  88,  89,  90,  91,  92,\n",
       "        93,  94,  95,  96,  97,  98,  99, 100, 101, 102, 103, 104, 105,\n",
       "       106, 109, 110, 112], dtype=int64)"
      ]
     },
     "execution_count": 25,
     "metadata": {},
     "output_type": "execute_result"
    }
   ],
   "source": [
    "print(f'Количество уникальных значений в признаке: {len(X_0[\"r1_hero\"].unique())}')\n",
    "np.array(sorted(X_0['r1_hero'].unique()))"
   ]
  },
  {
   "cell_type": "markdown",
   "id": "0bd8ab42",
   "metadata": {},
   "source": [
    "###### 4. Использование подхода \"мешок слов\" для категориальных признаков "
   ]
  },
  {
   "cell_type": "markdown",
   "id": "652ee010",
   "metadata": {},
   "source": [
    "Мы узнали, какие возможные значения могут принимать категориальные признаки, относящиеся к герою игрока. \n",
    "\n",
    "Учитывая, что максимальное значение признака 112, нам необходимо создать соответствующую матрицу размерности (_количество матчей_ x _112_) и для каждого матча указать: в соответствующем столбце, обозначающего номер героя, указать 1, если герой был выбран командой _Radiant_, -1, если герой был выбран командой _Dire_, в противном случае указать 0."
   ]
  },
  {
   "cell_type": "code",
   "execution_count": 26,
   "id": "d6f051a9",
   "metadata": {
    "scrolled": false
   },
   "outputs": [],
   "source": [
    "X_pick = np.zeros((X_0.shape[0], X_0[\"r1_hero\"].unique().max()))\n",
    "\n",
    "for i, match_id in enumerate(X_0.index):\n",
    "    for p in range(5):\n",
    "        X_pick[i, X_0.loc[match_id, 'r%d_hero' % (p+1)]-1] = 1\n",
    "        X_pick[i, X_0.loc[match_id, 'd%d_hero' % (p+1)]-1] = -1"
   ]
  },
  {
   "cell_type": "markdown",
   "id": "cf4ce692",
   "metadata": {},
   "source": [
    "Присоединим полученную матрицу к основному датасету, где категориальные признаки удалены."
   ]
  },
  {
   "cell_type": "code",
   "execution_count": 27,
   "id": "769572a7",
   "metadata": {},
   "outputs": [],
   "source": [
    "cat_features = ['r1_hero', 'r2_hero', 'r3_hero', 'r4_hero', 'r5_hero', \n",
    "                'd1_hero', 'r2_hero', 'r3_hero', 'r4_hero', 'r5_hero']\n",
    "\n",
    "X_0_cat_removed = X_0.drop(columns=cat_features)\n",
    "scaler_new = StandardScaler()\n",
    "X_0_cat_removed = scaler_new.fit_transform(X_0_cat_removed)"
   ]
  },
  {
   "cell_type": "code",
   "execution_count": 28,
   "id": "cea52ad7",
   "metadata": {},
   "outputs": [],
   "source": [
    "X_new = np.hstack((X_0_cat_removed, X_pick))"
   ]
  },
  {
   "cell_type": "markdown",
   "id": "81c86ad9",
   "metadata": {},
   "source": [
    "###### 5. Обучение логистической регрессии на основе датасета с обработанными категориальными признаками"
   ]
  },
  {
   "cell_type": "markdown",
   "id": "6cc75028",
   "metadata": {},
   "source": [
    "Еще раз рассмотрим оценку качества логистической регрессии, но теперь уже на основании данных с \"мешком слов\"."
   ]
  },
  {
   "cell_type": "code",
   "execution_count": 29,
   "id": "12ca003e",
   "metadata": {
    "scrolled": true
   },
   "outputs": [
    {
     "name": "stdout",
     "output_type": "stream",
     "text": [
      "Time elapsed: 0:01:06.016037\n"
     ]
    }
   ],
   "source": [
    "start_time = datetime.datetime.now()\n",
    "\n",
    "C = [0.1, 0.5, 1.0, 1.5, 2.0]\n",
    "cv = KFold(n_splits=5, shuffle=True)\n",
    "scores = []\n",
    "for c in C:\n",
    "    classifier = LogisticRegression(penalty='l2', C=c, max_iter=200) # добавлен параметр max_iter для сходимости алгоритма\n",
    "    score = cross_val_score(classifier, X_new, y, scoring='roc_auc', cv=cv)\n",
    "    scores.append(score.mean())\n",
    "\n",
    "print('Time elapsed:', datetime.datetime.now() - start_time)"
   ]
  },
  {
   "cell_type": "code",
   "execution_count": 30,
   "id": "37e80559",
   "metadata": {
    "scrolled": false
   },
   "outputs": [
    {
     "data": {
      "image/png": "[encoded data removed]",
      "text/plain": [
       "<Figure size 864x576 with 1 Axes>"
      ]
     },
     "metadata": {
      "needs_background": "light"
     },
     "output_type": "display_data"
    }
   ],
   "source": [
    "x = C\n",
    "plt.figure(figsize=(12,8))\n",
    "plt.plot(x, scores, marker='o',color='g', alpha=0.8)\n",
    "plt.xlabel('Значение С-коэффициента', fontsize=14)\n",
    "plt.ylabel('Оценка качества - ROC-AUC', fontsize=14)\n",
    "plt.title('Оценки качества при различных значениях С после использования \"мешка слов\"', fontsize=16)\n",
    "plt.xticks(C, fontsize=14)\n",
    "plt.yticks(np.arange(0.6, 0.8, 0.04), fontsize=14)\n",
    "plt.grid(alpha=0.3)\n",
    "plt.tight_layout()\n",
    "plt.show()"
   ]
  },
  {
   "cell_type": "markdown",
   "id": "5d5b0d31",
   "metadata": {},
   "source": [
    "Не смотря на то, что изменение параметра регуляризации не повлияло на качество, удалось добиться его увеличения. Это как раз таки по причине обработки категориальных признаков."
   ]
  },
  {
   "cell_type": "code",
   "execution_count": 31,
   "id": "af7d244c",
   "metadata": {},
   "outputs": [
    {
     "name": "stdout",
     "output_type": "stream",
     "text": [
      "Итоговое качество модели логистической регрессии: 0.7518\n"
     ]
    }
   ],
   "source": [
    "print(f'Итоговое качество модели логистической регрессии: {round(scores[0], 4)}')"
   ]
  },
  {
   "cell_type": "markdown",
   "id": "2706a440",
   "metadata": {},
   "source": [
    "###### 6. Предсказания целевой переменной на тестовом датасете "
   ]
  },
  {
   "cell_type": "markdown",
   "id": "b64b29cf",
   "metadata": {},
   "source": [
    "Теперь, когда имеется понимание наилучшей версии нашей модели, представляется возможным подсчитать итоговую целевую переменную для матчей, находящихся в тестовом датасете."
   ]
  },
  {
   "cell_type": "code",
   "execution_count": 32,
   "id": "ddd028cc",
   "metadata": {},
   "outputs": [
    {
     "data": {
      "text/html": [
       "<div>\n",
       "<style scoped>\n",
       "    .dataframe tbody tr th:only-of-type {\n",
       "        vertical-align: middle;\n",
       "    }\n",
       "\n",
       "    .dataframe tbody tr th {\n",
       "        vertical-align: top;\n",
       "    }\n",
       "\n",
       "    .dataframe thead th {\n",
       "        text-align: right;\n",
       "    }\n",
       "</style>\n",
       "<table border=\"1\" class=\"dataframe\">\n",
       "  <thead>\n",
       "    <tr style=\"text-align: right;\">\n",
       "      <th></th>\n",
       "      <th>start_time</th>\n",
       "      <th>lobby_type</th>\n",
       "      <th>r1_hero</th>\n",
       "      <th>r1_level</th>\n",
       "      <th>r1_xp</th>\n",
       "      <th>r1_gold</th>\n",
       "      <th>r1_lh</th>\n",
       "      <th>r1_kills</th>\n",
       "      <th>r1_deaths</th>\n",
       "      <th>r1_items</th>\n",
       "      <th>...</th>\n",
       "      <th>radiant_ward_sentry_count</th>\n",
       "      <th>radiant_first_ward_time</th>\n",
       "      <th>dire_bottle_time</th>\n",
       "      <th>dire_courier_time</th>\n",
       "      <th>dire_flying_courier_time</th>\n",
       "      <th>dire_tpscroll_count</th>\n",
       "      <th>dire_boots_count</th>\n",
       "      <th>dire_ward_observer_count</th>\n",
       "      <th>dire_ward_sentry_count</th>\n",
       "      <th>dire_first_ward_time</th>\n",
       "    </tr>\n",
       "    <tr>\n",
       "      <th>match_id</th>\n",
       "      <th></th>\n",
       "      <th></th>\n",
       "      <th></th>\n",
       "      <th></th>\n",
       "      <th></th>\n",
       "      <th></th>\n",
       "      <th></th>\n",
       "      <th></th>\n",
       "      <th></th>\n",
       "      <th></th>\n",
       "      <th></th>\n",
       "      <th></th>\n",
       "      <th></th>\n",
       "      <th></th>\n",
       "      <th></th>\n",
       "      <th></th>\n",
       "      <th></th>\n",
       "      <th></th>\n",
       "      <th></th>\n",
       "      <th></th>\n",
       "      <th></th>\n",
       "    </tr>\n",
       "  </thead>\n",
       "  <tbody>\n",
       "    <tr>\n",
       "      <th>107199</th>\n",
       "      <td>1449791749</td>\n",
       "      <td>1</td>\n",
       "      <td>102</td>\n",
       "      <td>1</td>\n",
       "      <td>31</td>\n",
       "      <td>541</td>\n",
       "      <td>1</td>\n",
       "      <td>0</td>\n",
       "      <td>0</td>\n",
       "      <td>7</td>\n",
       "      <td>...</td>\n",
       "      <td>1</td>\n",
       "      <td>-14.0</td>\n",
       "      <td>133.0</td>\n",
       "      <td>-74.0</td>\n",
       "      <td>232.0</td>\n",
       "      <td>2</td>\n",
       "      <td>4</td>\n",
       "      <td>2</td>\n",
       "      <td>1</td>\n",
       "      <td>-33.0</td>\n",
       "    </tr>\n",
       "    <tr>\n",
       "      <th>100692</th>\n",
       "      <td>1449513970</td>\n",
       "      <td>1</td>\n",
       "      <td>1</td>\n",
       "      <td>3</td>\n",
       "      <td>1003</td>\n",
       "      <td>1711</td>\n",
       "      <td>27</td>\n",
       "      <td>0</td>\n",
       "      <td>0</td>\n",
       "      <td>5</td>\n",
       "      <td>...</td>\n",
       "      <td>0</td>\n",
       "      <td>-36.0</td>\n",
       "      <td>111.0</td>\n",
       "      <td>-84.0</td>\n",
       "      <td>NaN</td>\n",
       "      <td>3</td>\n",
       "      <td>4</td>\n",
       "      <td>1</td>\n",
       "      <td>0</td>\n",
       "      <td>-22.0</td>\n",
       "    </tr>\n",
       "    <tr>\n",
       "      <th>6246</th>\n",
       "      <td>1432937145</td>\n",
       "      <td>7</td>\n",
       "      <td>23</td>\n",
       "      <td>5</td>\n",
       "      <td>1992</td>\n",
       "      <td>1489</td>\n",
       "      <td>22</td>\n",
       "      <td>0</td>\n",
       "      <td>1</td>\n",
       "      <td>9</td>\n",
       "      <td>...</td>\n",
       "      <td>0</td>\n",
       "      <td>4.0</td>\n",
       "      <td>110.0</td>\n",
       "      <td>-83.0</td>\n",
       "      <td>NaN</td>\n",
       "      <td>0</td>\n",
       "      <td>4</td>\n",
       "      <td>2</td>\n",
       "      <td>0</td>\n",
       "      <td>-5.0</td>\n",
       "    </tr>\n",
       "    <tr>\n",
       "      <th>38290</th>\n",
       "      <td>1443196952</td>\n",
       "      <td>7</td>\n",
       "      <td>86</td>\n",
       "      <td>3</td>\n",
       "      <td>882</td>\n",
       "      <td>930</td>\n",
       "      <td>1</td>\n",
       "      <td>0</td>\n",
       "      <td>2</td>\n",
       "      <td>11</td>\n",
       "      <td>...</td>\n",
       "      <td>1</td>\n",
       "      <td>17.0</td>\n",
       "      <td>NaN</td>\n",
       "      <td>-84.0</td>\n",
       "      <td>189.0</td>\n",
       "      <td>6</td>\n",
       "      <td>4</td>\n",
       "      <td>3</td>\n",
       "      <td>1</td>\n",
       "      <td>-22.0</td>\n",
       "    </tr>\n",
       "    <tr>\n",
       "      <th>91871</th>\n",
       "      <td>1449136768</td>\n",
       "      <td>7</td>\n",
       "      <td>90</td>\n",
       "      <td>3</td>\n",
       "      <td>1115</td>\n",
       "      <td>1097</td>\n",
       "      <td>6</td>\n",
       "      <td>1</td>\n",
       "      <td>2</td>\n",
       "      <td>8</td>\n",
       "      <td>...</td>\n",
       "      <td>0</td>\n",
       "      <td>38.0</td>\n",
       "      <td>NaN</td>\n",
       "      <td>-83.0</td>\n",
       "      <td>NaN</td>\n",
       "      <td>2</td>\n",
       "      <td>2</td>\n",
       "      <td>2</td>\n",
       "      <td>0</td>\n",
       "      <td>-29.0</td>\n",
       "    </tr>\n",
       "  </tbody>\n",
       "</table>\n",
       "<p>5 rows × 102 columns</p>\n",
       "</div>"
      ],
      "text/plain": [
       "          start_time  lobby_type  r1_hero  r1_level  r1_xp  r1_gold  r1_lh  \\\n",
       "match_id                                                                     \n",
       "107199    1449791749           1      102         1     31      541      1   \n",
       "100692    1449513970           1        1         3   1003     1711     27   \n",
       "6246      1432937145           7       23         5   1992     1489     22   \n",
       "38290     1443196952           7       86         3    882      930      1   \n",
       "91871     1449136768           7       90         3   1115     1097      6   \n",
       "\n",
       "          r1_kills  r1_deaths  r1_items  ...  radiant_ward_sentry_count  \\\n",
       "match_id                                 ...                              \n",
       "107199           0          0         7  ...                          1   \n",
       "100692           0          0         5  ...                          0   \n",
       "6246             0          1         9  ...                          0   \n",
       "38290            0          2        11  ...                          1   \n",
       "91871            1          2         8  ...                          0   \n",
       "\n",
       "          radiant_first_ward_time  dire_bottle_time  dire_courier_time  \\\n",
       "match_id                                                                 \n",
       "107199                      -14.0             133.0              -74.0   \n",
       "100692                      -36.0             111.0              -84.0   \n",
       "6246                          4.0             110.0              -83.0   \n",
       "38290                        17.0               NaN              -84.0   \n",
       "91871                        38.0               NaN              -83.0   \n",
       "\n",
       "          dire_flying_courier_time  dire_tpscroll_count  dire_boots_count  \\\n",
       "match_id                                                                    \n",
       "107199                       232.0                    2                 4   \n",
       "100692                         NaN                    3                 4   \n",
       "6246                           NaN                    0                 4   \n",
       "38290                        189.0                    6                 4   \n",
       "91871                          NaN                    2                 2   \n",
       "\n",
       "          dire_ward_observer_count  dire_ward_sentry_count  \\\n",
       "match_id                                                     \n",
       "107199                           2                       1   \n",
       "100692                           1                       0   \n",
       "6246                             2                       0   \n",
       "38290                            3                       1   \n",
       "91871                            2                       0   \n",
       "\n",
       "          dire_first_ward_time  \n",
       "match_id                        \n",
       "107199                   -33.0  \n",
       "100692                   -22.0  \n",
       "6246                      -5.0  \n",
       "38290                    -22.0  \n",
       "91871                    -29.0  \n",
       "\n",
       "[5 rows x 102 columns]"
      ]
     },
     "execution_count": 32,
     "metadata": {},
     "output_type": "execute_result"
    }
   ],
   "source": [
    "test_df = pd.read_csv('features_test.csv', index_col='match_id')\n",
    "matches = test_df.index\n",
    "test_df.sample(5)"
   ]
  },
  {
   "cell_type": "markdown",
   "id": "04769dc2",
   "metadata": {},
   "source": [
    "Предобработаем признаки по аналогии с обучающим датасетом."
   ]
  },
  {
   "cell_type": "code",
   "execution_count": 33,
   "id": "85664d28",
   "metadata": {},
   "outputs": [],
   "source": [
    "test_df.fillna(0, inplace=True)"
   ]
  },
  {
   "cell_type": "code",
   "execution_count": 34,
   "id": "7be77802",
   "metadata": {},
   "outputs": [],
   "source": [
    "test_pick = np.zeros((test_df.shape[0], test_df[\"r1_hero\"].unique().max()))\n",
    "\n",
    "for i, match_id in enumerate(test_df.index):\n",
    "    for p in range(5):\n",
    "        test_pick[i, test_df.loc[match_id, 'r%d_hero' % (p+1)]-1] = 1\n",
    "        test_pick[i, test_df.loc[match_id, 'd%d_hero' % (p+1)]-1] = -1\n",
    "        \n",
    "cat_features = ['r1_hero', 'r2_hero', 'r3_hero', 'r4_hero', 'r5_hero', \n",
    "                'd1_hero', 'r2_hero', 'r3_hero', 'r4_hero', 'r5_hero']\n",
    "\n",
    "test_df = test_df.drop(columns=cat_features)\n",
    "\n",
    "scaler = StandardScaler()\n",
    "test_df = scaler.fit_transform(test_df)\n",
    "\n",
    "X = np.hstack((test_df, test_pick))"
   ]
  },
  {
   "cell_type": "markdown",
   "id": "a5fe071d",
   "metadata": {},
   "source": [
    "Создадим нашу найденную наилучшую модель логистической регрессии и посмотрим, какие предсказания она выдаст тестовому датасету."
   ]
  },
  {
   "cell_type": "code",
   "execution_count": 35,
   "id": "1278090c",
   "metadata": {},
   "outputs": [
    {
     "data": {
      "text/plain": [
       "LogisticRegression(max_iter=200)"
      ]
     },
     "execution_count": 35,
     "metadata": {},
     "output_type": "execute_result"
    }
   ],
   "source": [
    "best_model = LogisticRegression(penalty='l2', max_iter=200)\n",
    "best_model.fit(X_new, y)"
   ]
  },
  {
   "cell_type": "code",
   "execution_count": 36,
   "id": "d4d5c148",
   "metadata": {},
   "outputs": [
    {
     "data": {
      "text/plain": [
       "array([[0.17286284, 0.82713716],\n",
       "       [0.24308029, 0.75691971],\n",
       "       [0.81142295, 0.18857705],\n",
       "       ...,\n",
       "       [0.7639452 , 0.2360548 ],\n",
       "       [0.36940595, 0.63059405],\n",
       "       [0.57523674, 0.42476326]])"
      ]
     },
     "execution_count": 36,
     "metadata": {},
     "output_type": "execute_result"
    }
   ],
   "source": [
    "predictions = best_model.predict_proba(X)\n",
    "predictions"
   ]
  },
  {
   "cell_type": "markdown",
   "id": "a9bf7b81",
   "metadata": {},
   "source": [
    "Мы видим, что получившиеся предсказания находятся на отрезке от 0 до 1 и представляют собой уверенность классификатора в том, что данный объект (матч) принадлежит либо классу 0, либо классу 1. И уже по получившимся предсказаниям видно, что в целом итоговый классификатор старается как можно точнее предсказывать принадлежность: это не простое гадание 0.5 на 0.5. "
   ]
  },
  {
   "cell_type": "markdown",
   "id": "9bc3ea46",
   "metadata": {},
   "source": [
    "Итоговые вероятности принадлежности к 1 классу (победа команды Radiant):"
   ]
  },
  {
   "cell_type": "code",
   "execution_count": 37,
   "id": "13016cfb",
   "metadata": {},
   "outputs": [
    {
     "data": {
      "text/html": [
       "<div>\n",
       "<style scoped>\n",
       "    .dataframe tbody tr th:only-of-type {\n",
       "        vertical-align: middle;\n",
       "    }\n",
       "\n",
       "    .dataframe tbody tr th {\n",
       "        vertical-align: top;\n",
       "    }\n",
       "\n",
       "    .dataframe thead th {\n",
       "        text-align: right;\n",
       "    }\n",
       "</style>\n",
       "<table border=\"1\" class=\"dataframe\">\n",
       "  <thead>\n",
       "    <tr style=\"text-align: right;\">\n",
       "      <th></th>\n",
       "      <th>match_id</th>\n",
       "      <th>radiant_win</th>\n",
       "    </tr>\n",
       "  </thead>\n",
       "  <tbody>\n",
       "    <tr>\n",
       "      <th>0</th>\n",
       "      <td>6.0</td>\n",
       "      <td>0.827137</td>\n",
       "    </tr>\n",
       "    <tr>\n",
       "      <th>1</th>\n",
       "      <td>7.0</td>\n",
       "      <td>0.756920</td>\n",
       "    </tr>\n",
       "    <tr>\n",
       "      <th>2</th>\n",
       "      <td>10.0</td>\n",
       "      <td>0.188577</td>\n",
       "    </tr>\n",
       "    <tr>\n",
       "      <th>3</th>\n",
       "      <td>13.0</td>\n",
       "      <td>0.860368</td>\n",
       "    </tr>\n",
       "    <tr>\n",
       "      <th>4</th>\n",
       "      <td>16.0</td>\n",
       "      <td>0.239159</td>\n",
       "    </tr>\n",
       "  </tbody>\n",
       "</table>\n",
       "</div>"
      ],
      "text/plain": [
       "   match_id  radiant_win\n",
       "0       6.0     0.827137\n",
       "1       7.0     0.756920\n",
       "2      10.0     0.188577\n",
       "3      13.0     0.860368\n",
       "4      16.0     0.239159"
      ]
     },
     "execution_count": 37,
     "metadata": {},
     "output_type": "execute_result"
    }
   ],
   "source": [
    "radiant_win = predictions[:, 1]\n",
    "\n",
    "radiant_win = np.expand_dims(radiant_win, axis=1)\n",
    "matches = np.expand_dims(matches, axis=1)\n",
    "\n",
    "predictions_radiant = pd.DataFrame(np.hstack((matches, radiant_win)), columns=['match_id', 'radiant_win'])\n",
    "predictions_radiant.head()"
   ]
  },
  {
   "cell_type": "code",
   "execution_count": 38,
   "id": "8fcc6545",
   "metadata": {},
   "outputs": [
    {
     "name": "stdout",
     "output_type": "stream",
     "text": [
      "Наименьшее значение предсказания победы radiant - 0.0086\n",
      "Наибольшее значение предсказания победы radiant - 0.9965\n"
     ]
    }
   ],
   "source": [
    "print(f'Наименьшее значение предсказания победы radiant - {round(predictions_radiant[\"radiant_win\"].min(), 4)}')\n",
    "print(f'Наибольшее значение предсказания победы radiant - {round(predictions_radiant[\"radiant_win\"].max(), 4)}')"
   ]
  },
  {
   "cell_type": "markdown",
   "id": "e5f027e9",
   "metadata": {},
   "source": [
    "###### Отчет по этапу"
   ]
  },
  {
   "cell_type": "markdown",
   "id": "8d57ac4e",
   "metadata": {},
   "source": [
    "1. Среднее значение качества вне зависимости от значения С у стандартной логистической регрессии оказалось на уровне в около 0.716, что больше, чем у модели градиентного бустинга. Более того, логистическая регрессия справилась с обучением значительно быстрее градиентного бустинга. Скорее всего, связано это с природой данных моделей: градиентный бустинг представляет собой композицию из решающих деревьев, которым достаточно тяжело работать не с категориальными признаками (с обычными числовыми); логистическая регрессия является одним из представителей линейных моделей, для которых работа с числовыми признаками наоборот более актуальна.\n",
    "2. Качество логистической регрессии после удаления категориальных признаков ничуть не изменилось - около 0.716. То есть, можно предположить, что мы уперлись в своего рода бутылочное горлышко. То есть как раз необработанные категориальные признаки не влияли на качество, но если их преобразовать, то качество модели может увеличиться.\n",
    "3. Всего существует 108 уникальных значений героев, однако максимальное значение героя находится на отметке в 112.\n",
    "4. После использования \"мешка слов\" качество модели улучшилось - стало равным около 0.75. Это как раз таки по причине того, что категориальные признаки были соответствующим образом преобразованы при помощи \"мешка слов\".\n",
    "5. Наименьшее значение предсказания того, что победу в матче одержит команда _Radiant_ оказалось равным меньше 0.01. В то же время, наибольшее значение такого предсказания получилось равным практически 1, или 0.99."
   ]
  }
 ],
 "metadata": {
  "kernelspec": {
   "display_name": "Python 3 (ipykernel)",
   "language": "python",
   "name": "python3"
  },
  "language_info": {
   "codemirror_mode": {
    "name": "ipython",
    "version": 3
   },
   "file_extension": ".py",
   "mimetype": "text/x-python",
   "name": "python",
   "nbconvert_exporter": "python",
   "pygments_lexer": "ipython3",
   "version": "3.9.6"
  }
 },
 "nbformat": 4,
 "nbformat_minor": 5
}
