{
 "cells": [
  {
   "cell_type": "markdown",
   "id": "cf228efd",
   "metadata": {},
   "source": [
    "# Нормализация признаков"
   ]
  },
  {
   "cell_type": "markdown",
   "id": "60454f47",
   "metadata": {},
   "source": [
    "###### Импорт библиотек"
   ]
  },
  {
   "cell_type": "code",
   "execution_count": 1,
   "id": "cb5954ca",
   "metadata": {},
   "outputs": [],
   "source": [
    "import pandas as pd\n",
    "import numpy as np\n",
    "from sklearn.linear_model import Perceptron\n",
    "from sklearn.metrics import accuracy_score\n",
    "from sklearn.preprocessing import StandardScaler"
   ]
  },
  {
   "cell_type": "markdown",
   "id": "0f6626e2",
   "metadata": {},
   "source": [
    "###### Импорт датасета и разбиение на X_train, X_test и y_train, y_test"
   ]
  },
  {
   "cell_type": "code",
   "execution_count": 34,
   "id": "3484452a",
   "metadata": {},
   "outputs": [
    {
     "data": {
      "text/html": [
       "<div>\n",
       "<style scoped>\n",
       "    .dataframe tbody tr th:only-of-type {\n",
       "        vertical-align: middle;\n",
       "    }\n",
       "\n",
       "    .dataframe tbody tr th {\n",
       "        vertical-align: top;\n",
       "    }\n",
       "\n",
       "    .dataframe thead th {\n",
       "        text-align: right;\n",
       "    }\n",
       "</style>\n",
       "<table border=\"1\" class=\"dataframe\">\n",
       "  <thead>\n",
       "    <tr style=\"text-align: right;\">\n",
       "      <th></th>\n",
       "      <th>0</th>\n",
       "      <th>1</th>\n",
       "      <th>2</th>\n",
       "    </tr>\n",
       "  </thead>\n",
       "  <tbody>\n",
       "    <tr>\n",
       "      <th>0</th>\n",
       "      <td>-1.0</td>\n",
       "      <td>-0.024626</td>\n",
       "      <td>1174.600238</td>\n",
       "    </tr>\n",
       "    <tr>\n",
       "      <th>1</th>\n",
       "      <td>1.0</td>\n",
       "      <td>-0.978058</td>\n",
       "      <td>1083.198803</td>\n",
       "    </tr>\n",
       "    <tr>\n",
       "      <th>2</th>\n",
       "      <td>-1.0</td>\n",
       "      <td>0.314272</td>\n",
       "      <td>-1472.977609</td>\n",
       "    </tr>\n",
       "    <tr>\n",
       "      <th>3</th>\n",
       "      <td>-1.0</td>\n",
       "      <td>0.179752</td>\n",
       "      <td>231.017267</td>\n",
       "    </tr>\n",
       "    <tr>\n",
       "      <th>4</th>\n",
       "      <td>1.0</td>\n",
       "      <td>-1.262544</td>\n",
       "      <td>-778.271726</td>\n",
       "    </tr>\n",
       "    <tr>\n",
       "      <th>...</th>\n",
       "      <td>...</td>\n",
       "      <td>...</td>\n",
       "      <td>...</td>\n",
       "    </tr>\n",
       "    <tr>\n",
       "      <th>295</th>\n",
       "      <td>-1.0</td>\n",
       "      <td>-0.126438</td>\n",
       "      <td>1861.564124</td>\n",
       "    </tr>\n",
       "    <tr>\n",
       "      <th>296</th>\n",
       "      <td>-1.0</td>\n",
       "      <td>-0.490972</td>\n",
       "      <td>1815.652064</td>\n",
       "    </tr>\n",
       "    <tr>\n",
       "      <th>297</th>\n",
       "      <td>1.0</td>\n",
       "      <td>-0.375750</td>\n",
       "      <td>-314.074374</td>\n",
       "    </tr>\n",
       "    <tr>\n",
       "      <th>298</th>\n",
       "      <td>1.0</td>\n",
       "      <td>-1.861976</td>\n",
       "      <td>-1083.677679</td>\n",
       "    </tr>\n",
       "    <tr>\n",
       "      <th>299</th>\n",
       "      <td>1.0</td>\n",
       "      <td>-0.039329</td>\n",
       "      <td>-1863.884299</td>\n",
       "    </tr>\n",
       "  </tbody>\n",
       "</table>\n",
       "<p>300 rows × 3 columns</p>\n",
       "</div>"
      ],
      "text/plain": [
       "       0         1            2\n",
       "0   -1.0 -0.024626  1174.600238\n",
       "1    1.0 -0.978058  1083.198803\n",
       "2   -1.0  0.314272 -1472.977609\n",
       "3   -1.0  0.179752   231.017267\n",
       "4    1.0 -1.262544  -778.271726\n",
       "..   ...       ...          ...\n",
       "295 -1.0 -0.126438  1861.564124\n",
       "296 -1.0 -0.490972  1815.652064\n",
       "297  1.0 -0.375750  -314.074374\n",
       "298  1.0 -1.861976 -1083.677679\n",
       "299  1.0 -0.039329 -1863.884299\n",
       "\n",
       "[300 rows x 3 columns]"
      ]
     },
     "execution_count": 34,
     "metadata": {},
     "output_type": "execute_result"
    }
   ],
   "source": [
    "df_train = pd.read_csv('perceptron-train.csv', header=None)\n",
    "df_test = pd.read_csv('perceptron-test.csv', header=None)\n",
    "df_train # - в первом столбце - класс, во втором и третьем - признаки"
   ]
  },
  {
   "cell_type": "code",
   "execution_count": 41,
   "id": "5bd1f281",
   "metadata": {},
   "outputs": [],
   "source": [
    "X_train, y_train = df_train[[1, 2]], df_train[0].astype(int)\n",
    "X_test, y_test = df_test[[1, 2]], df_test[0].astype(int)"
   ]
  },
  {
   "cell_type": "markdown",
   "id": "19e82154",
   "metadata": {},
   "source": [
    "###### Применение классификации (персептрона) к ненормализованной выборке"
   ]
  },
  {
   "cell_type": "code",
   "execution_count": 53,
   "id": "ff5f02c5",
   "metadata": {},
   "outputs": [
    {
     "data": {
      "text/plain": [
       "Perceptron(max_iter=5, random_state=241, tol=None)"
      ]
     },
     "execution_count": 53,
     "metadata": {},
     "output_type": "execute_result"
    }
   ],
   "source": [
    "# создание модели с параметрами по умолчанию\n",
    "perceptron_nonorm = Perceptron(random_state=241, max_iter=5, tol=None)\n",
    "perceptron_nonorm.fit(X_train, y_train)"
   ]
  },
  {
   "cell_type": "code",
   "execution_count": 54,
   "id": "a043ad3a",
   "metadata": {},
   "outputs": [
    {
     "name": "stdout",
     "output_type": "stream",
     "text": [
      "Качество модели без нормализации признаков - 0.66\n"
     ]
    }
   ],
   "source": [
    "# оценка качества модели с применением метрики \"точность\"\n",
    "accuracy_nonorm = accuracy_score(y_test, perceptron_nonorm.predict(X_test))\n",
    "print('Качество модели без нормализации признаков -', round(accuracy_nonorm, 2))"
   ]
  },
  {
   "cell_type": "markdown",
   "id": "05c6b421",
   "metadata": {},
   "source": [
    "###### Применение классификации (персептрона) к нормализованной выборке"
   ]
  },
  {
   "cell_type": "code",
   "execution_count": 55,
   "id": "1c7bc479",
   "metadata": {},
   "outputs": [],
   "source": [
    "# нормализация признаков с применением стандартизации\n",
    "Scaler = StandardScaler()\n",
    "X_train_norm = Scaler.fit_transform(X_train)\n",
    "X_test_norm = Scaler.transform(X_test)"
   ]
  },
  {
   "cell_type": "code",
   "execution_count": 56,
   "id": "1b4cbcfe",
   "metadata": {},
   "outputs": [
    {
     "data": {
      "text/plain": [
       "Perceptron(max_iter=5, random_state=241, tol=None)"
      ]
     },
     "execution_count": 56,
     "metadata": {},
     "output_type": "execute_result"
    }
   ],
   "source": [
    "# создание модели с параметрами по умолчанию\n",
    "perceptron_norm = Perceptron(random_state=241, max_iter=5, tol=None)\n",
    "perceptron_norm.fit(X_train_norm, y_train)"
   ]
  },
  {
   "cell_type": "code",
   "execution_count": 57,
   "id": "52657d69",
   "metadata": {},
   "outputs": [
    {
     "name": "stdout",
     "output_type": "stream",
     "text": [
      "Качество модели с нормализованными признаками - 0.84\n"
     ]
    }
   ],
   "source": [
    "# оценка качества модели с нормализованными признаками с применением метрики \"точность\"\n",
    "accuracy_norm = accuracy_score(y_test, perceptron_norm.predict(X_test_norm))\n",
    "print('Качество модели с нормализованными признаками -', round(accuracy_norm, 2))"
   ]
  },
  {
   "cell_type": "code",
   "execution_count": 65,
   "id": "006497d7",
   "metadata": {},
   "outputs": [
    {
     "name": "stdout",
     "output_type": "stream",
     "text": [
      "Разница качества - 18%\n"
     ]
    }
   ],
   "source": [
    "print('Разница качества - ', round(accuracy_norm % accuracy_nonorm * 100), '%', sep='')"
   ]
  },
  {
   "cell_type": "markdown",
   "id": "f27b1fb3",
   "metadata": {},
   "source": [
    "Нормализация признаков дает существенное увеличение качества модели: точность увеличилась с $0.66$ до $0.84$ или на $18$$\\%$."
   ]
  }
 ],
 "metadata": {
  "kernelspec": {
   "display_name": "Python 3 (ipykernel)",
   "language": "python",
   "name": "python3"
  },
  "language_info": {
   "codemirror_mode": {
    "name": "ipython",
    "version": 3
   },
   "file_extension": ".py",
   "mimetype": "text/x-python",
   "name": "python",
   "nbconvert_exporter": "python",
   "pygments_lexer": "ipython3",
   "version": "3.9.6"
  }
 },
 "nbformat": 4,
 "nbformat_minor": 5
}
