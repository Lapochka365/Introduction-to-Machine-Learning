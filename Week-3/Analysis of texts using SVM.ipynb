{
 "cells": [
  {
   "cell_type": "markdown",
   "id": "ba9898e9",
   "metadata": {},
   "source": [
    "# Анализ текстов с SVM"
   ]
  },
  {
   "cell_type": "markdown",
   "id": "ae52cc9e",
   "metadata": {},
   "source": [
    "###### Импорт необходимых библиотек"
   ]
  },
  {
   "cell_type": "code",
   "execution_count": 4,
   "id": "2cc6961d",
   "metadata": {},
   "outputs": [],
   "source": [
    "import pandas as pd\n",
    "import numpy as np\n",
    "from sklearn import datasets\n",
    "from sklearn.feature_extraction.text import TfidfVectorizer\n",
    "from sklearn.svm import SVC\n",
    "from sklearn.model_selection import GridSearchCV, KFold"
   ]
  },
  {
   "cell_type": "markdown",
   "id": "d348a86a",
   "metadata": {},
   "source": [
    "###### Импорт датасета, разделение на признаки $X$ и целевую переменную $y$"
   ]
  },
  {
   "cell_type": "code",
   "execution_count": 5,
   "id": "e48b0f16",
   "metadata": {},
   "outputs": [],
   "source": [
    "newsgroups = datasets.fetch_20newsgroups(\n",
    "                    subset='all', \n",
    "                    categories=['alt.atheism', 'sci.space']\n",
    "             )"
   ]
  },
  {
   "cell_type": "code",
   "execution_count": 7,
   "id": "852cb87f",
   "metadata": {},
   "outputs": [],
   "source": [
    "X = newsgroups.data # - признаки, представляющие собой строки из новостных лент\n",
    "y = newsgroups.target"
   ]
  },
  {
   "cell_type": "code",
   "execution_count": 15,
   "id": "bd7901de",
   "metadata": {},
   "outputs": [
    {
     "data": {
      "text/plain": [
       "'From: 9051467f@levels.unisa.edu.au (The Desert Brat)\\nSubject: Re: Keith Schneider - Stealth Poster?\\nOrganization: Cured, discharged\\nLines: 24\\n\\nIn article <1pa0f4INNpit@gap.caltech.edu>, keith@cco.caltech.edu (Keith Allan Schneider) writes:\\n\\n> But really, are you threatened by the motto, or by the people that use it?\\n\\nEvery time somone writes something and says it is merely describing the norm,\\nit is infact re-inforcing that norm upon those programmed not to think for\\nthemselves. The motto is dangerous in itself, it tells the world that every\\n*true* American is god-fearing, and puts down those who do not fear gods. It\\ndoesn\\'t need anyone to make it dangerous, it does a good job itself by just\\nexisting on your currency.\\n\\n> keith\\n\\nThe Desert Brat\\n-- \\nJohn J McVey, Elc&Eltnc Eng, Whyalla, Uni S Australia,    ________\\n9051467f@levels.unisa.edu.au      T.S.A.K.C.            \\\\/Darwin o\\\\\\nFor replies, mail to whjjm@wh.whyalla.unisa.edu.au      /\\\\________/\\nDisclaimer: Unisa hates my opinions.                       bb  bb\\n+------------------------------------------------------+-----------------------+\\n|\"It doesn\\'t make a rainbow any less beautiful that we | \"God\\'s name is smack  |\\n|understand the refractive mechanisms that chance to   | for some.\"            |\\n|produce it.\" - Jim Perry, perry@dsinc.com             |    - Alice In Chains  |\\n+------------------------------------------------------+-----------------------+\\n'"
      ]
     },
     "execution_count": 15,
     "metadata": {},
     "output_type": "execute_result"
    }
   ],
   "source": [
    "# пример признака до разбиения на отдельные слова\n",
    "X[0]"
   ]
  },
  {
   "cell_type": "markdown",
   "id": "522ed0d9",
   "metadata": {},
   "source": [
    "###### Обучение линейной модели SVM с параметрами"
   ]
  },
  {
   "cell_type": "code",
   "execution_count": 16,
   "id": "0c311e97",
   "metadata": {},
   "outputs": [],
   "source": [
    "# Вычисление TF-IDF для слов в строках признаков\n",
    "vectorizer = TfidfVectorizer()\n",
    "X_vectorized = vectorizer.fit_transform(X)"
   ]
  },
  {
   "cell_type": "code",
   "execution_count": 23,
   "id": "c3a6a656",
   "metadata": {},
   "outputs": [
    {
     "name": "stdout",
     "output_type": "stream",
     "text": [
      "В новой таблице признаков находится 1786 строк (новостных лент)\n",
      "В новой таблице признаков находится 28382 столбца (различных слов в новостных лентах)\n"
     ]
    }
   ],
   "source": [
    "print(f'В новой таблице признаков находится {X_vectorized.shape[0]} строк (новостных лент)')\n",
    "print(f'В новой таблице признаков находится {X_vectorized.shape[1]} столбца (различных слов в новостных лентах)')"
   ]
  },
  {
   "cell_type": "code",
   "execution_count": 26,
   "id": "711dde45",
   "metadata": {},
   "outputs": [],
   "source": [
    "# создание сетки параметров и стратегии кросс-валидации\n",
    "param_grid = {\n",
    "    'C': np.power(10.0, np.arange(-5, 6))\n",
    "}\n",
    "cv = KFold(n_splits=5, shuffle=True, random_state=241)"
   ]
  },
  {
   "cell_type": "code",
   "execution_count": 28,
   "id": "e705d927",
   "metadata": {},
   "outputs": [
    {
     "data": {
      "text/plain": [
       "GridSearchCV(cv=KFold(n_splits=5, random_state=241, shuffle=True),\n",
       "             estimator=SVC(kernel='linear', random_state=241),\n",
       "             param_grid={'C': array([1.e-05, 1.e-04, 1.e-03, 1.e-02, 1.e-01, 1.e+00, 1.e+01, 1.e+02,\n",
       "       1.e+03, 1.e+04, 1.e+05])},\n",
       "             scoring='accuracy')"
      ]
     },
     "execution_count": 28,
     "metadata": {},
     "output_type": "execute_result"
    }
   ],
   "source": [
    "# Поиск наилучшего значения константы C для SVM\n",
    "estimators = GridSearchCV(SVC(kernel='linear', random_state=241), param_grid, scoring='accuracy', cv=cv)\n",
    "estimators.fit(X_vectorized, y)"
   ]
  },
  {
   "cell_type": "code",
   "execution_count": 43,
   "id": "0a5fbf0a",
   "metadata": {},
   "outputs": [
    {
     "name": "stdout",
     "output_type": "stream",
     "text": [
      "C = 1e-05, средняя ошибка равна = 0.5526\n",
      "C = 0.0001, средняя ошибка равна = 0.5526\n",
      "C = 0.001, средняя ошибка равна = 0.5526\n",
      "C = 0.01, средняя ошибка равна = 0.5526\n",
      "C = 0.1, средняя ошибка равна = 0.9502\n",
      "C = 1.0, средняя ошибка равна = 0.9933\n",
      "C = 10.0, средняя ошибка равна = 0.9933\n",
      "C = 100.0, средняя ошибка равна = 0.9933\n",
      "C = 1000.0, средняя ошибка равна = 0.9933\n",
      "C = 10000.0, средняя ошибка равна = 0.9933\n",
      "C = 100000.0, средняя ошибка равна = 0.9933\n"
     ]
    }
   ],
   "source": [
    "for a in zip(estimators.cv_results_['param_C'],estimators.cv_results_['mean_test_score']):\n",
    "    print(f'C = {a[0]}', ', ', f'средняя ошибка равна = {round(a[1], 4)}', sep='')"
   ]
  },
  {
   "cell_type": "markdown",
   "id": "39d2e1de",
   "metadata": {},
   "source": [
    "Таким образом, наименьшим оптимальным параметром $С$ для текущей выборки является значение $С = 1.0$"
   ]
  },
  {
   "cell_type": "code",
   "execution_count": 44,
   "id": "5c98e84d",
   "metadata": {},
   "outputs": [
    {
     "data": {
      "text/plain": [
       "SVC(kernel='linear', random_state=241)"
      ]
     },
     "execution_count": 44,
     "metadata": {},
     "output_type": "execute_result"
    }
   ],
   "source": [
    "# обучение оптимальной модели\n",
    "svm = SVC(C=1.0, kernel='linear', random_state=241)\n",
    "svm.fit(X_vectorized, y)"
   ]
  },
  {
   "cell_type": "code",
   "execution_count": 65,
   "id": "1d085cbd",
   "metadata": {},
   "outputs": [],
   "source": [
    "# Получение весов и их сортировка для последующего отбора 10 наибольших весов по модулю\n",
    "coefs = abs(svm.coef_.todense().A1)\n",
    "coefs_indices = np.argsort(coefs)\n",
    "coefs_10_max = coefs_indices[-10 : ]"
   ]
  },
  {
   "cell_type": "code",
   "execution_count": 76,
   "id": "53828580",
   "metadata": {},
   "outputs": [
    {
     "name": "stdout",
     "output_type": "stream",
     "text": [
      "\u001b[1mСписок 10 слов, имеющих наибольший вес по модулю:\u001b[0m\n",
      "atheism, atheists, bible, god, keith, moon, religion, sci, sky, space\n"
     ]
    }
   ],
   "source": [
    "# Получение списка со словами,имеющими наибольший абсолютный вес (больше всего встречающиеся в выборке)\n",
    "feature_mapping = vectorizer.get_feature_names_out()\n",
    "most_weight_features = []\n",
    "for coef in coefs_10_max:\n",
    "    most_weight_features.append(feature_mapping[coef])\n",
    "most_weight_features = sorted(most_weight_features)\n",
    "print('\\033[1mСписок 10 слов, имеющих наибольший вес по модулю:\\033[0m')\n",
    "for n in range(10):\n",
    "    if n == 9:\n",
    "        print(most_weight_features[n])\n",
    "        break\n",
    "    print(f'{most_weight_features[n]}', end=', ')"
   ]
  }
 ],
 "metadata": {
  "kernelspec": {
   "display_name": "Python 3 (ipykernel)",
   "language": "python",
   "name": "python3"
  },
  "language_info": {
   "codemirror_mode": {
    "name": "ipython",
    "version": 3
   },
   "file_extension": ".py",
   "mimetype": "text/x-python",
   "name": "python",
   "nbconvert_exporter": "python",
   "pygments_lexer": "ipython3",
   "version": "3.9.6"
  }
 },
 "nbformat": 4,
 "nbformat_minor": 5
}
