{
 "cells": [
  {
   "cell_type": "markdown",
   "id": "f2c4cf1e",
   "metadata": {},
   "source": [
    "# Логистическая регрессия"
   ]
  },
  {
   "cell_type": "markdown",
   "id": "5ecb66fc",
   "metadata": {},
   "source": [
    "###### Импорт необходимых библиотек"
   ]
  },
  {
   "cell_type": "code",
   "execution_count": 91,
   "id": "6b9e5699",
   "metadata": {},
   "outputs": [],
   "source": [
    "import pandas as pd\n",
    "import numpy as np\n",
    "from sklearn.metrics import roc_auc_score\n",
    "import sys"
   ]
  },
  {
   "cell_type": "markdown",
   "id": "5318ff44",
   "metadata": {},
   "source": [
    "###### Импорт датасета"
   ]
  },
  {
   "cell_type": "code",
   "execution_count": 5,
   "id": "976a8b77",
   "metadata": {},
   "outputs": [],
   "source": [
    "df = pd.read_csv('data-logistic.csv', header=None)"
   ]
  },
  {
   "cell_type": "code",
   "execution_count": 7,
   "id": "49184be6",
   "metadata": {
    "scrolled": false
   },
   "outputs": [
    {
     "data": {
      "text/html": [
       "<div>\n",
       "<style scoped>\n",
       "    .dataframe tbody tr th:only-of-type {\n",
       "        vertical-align: middle;\n",
       "    }\n",
       "\n",
       "    .dataframe tbody tr th {\n",
       "        vertical-align: top;\n",
       "    }\n",
       "\n",
       "    .dataframe thead th {\n",
       "        text-align: right;\n",
       "    }\n",
       "</style>\n",
       "<table border=\"1\" class=\"dataframe\">\n",
       "  <thead>\n",
       "    <tr style=\"text-align: right;\">\n",
       "      <th></th>\n",
       "      <th>0</th>\n",
       "      <th>1</th>\n",
       "      <th>2</th>\n",
       "    </tr>\n",
       "  </thead>\n",
       "  <tbody>\n",
       "    <tr>\n",
       "      <th>0</th>\n",
       "      <td>-1</td>\n",
       "      <td>-0.663827</td>\n",
       "      <td>-0.138526</td>\n",
       "    </tr>\n",
       "    <tr>\n",
       "      <th>1</th>\n",
       "      <td>1</td>\n",
       "      <td>1.994596</td>\n",
       "      <td>2.468025</td>\n",
       "    </tr>\n",
       "    <tr>\n",
       "      <th>2</th>\n",
       "      <td>-1</td>\n",
       "      <td>-1.247395</td>\n",
       "      <td>0.749425</td>\n",
       "    </tr>\n",
       "    <tr>\n",
       "      <th>3</th>\n",
       "      <td>1</td>\n",
       "      <td>2.309374</td>\n",
       "      <td>1.899836</td>\n",
       "    </tr>\n",
       "    <tr>\n",
       "      <th>4</th>\n",
       "      <td>1</td>\n",
       "      <td>0.849143</td>\n",
       "      <td>2.407750</td>\n",
       "    </tr>\n",
       "  </tbody>\n",
       "</table>\n",
       "</div>"
      ],
      "text/plain": [
       "   0         1         2\n",
       "0 -1 -0.663827 -0.138526\n",
       "1  1  1.994596  2.468025\n",
       "2 -1 -1.247395  0.749425\n",
       "3  1  2.309374  1.899836\n",
       "4  1  0.849143  2.407750"
      ]
     },
     "execution_count": 7,
     "metadata": {},
     "output_type": "execute_result"
    }
   ],
   "source": [
    "df.head(5)"
   ]
  },
  {
   "cell_type": "code",
   "execution_count": 12,
   "id": "92d8302f",
   "metadata": {},
   "outputs": [],
   "source": [
    "# разбиение на признаки и целевую переменную\n",
    "X = df[[1, 2]]\n",
    "y = df[0].astype(int)"
   ]
  },
  {
   "cell_type": "markdown",
   "id": "907ec9d9",
   "metadata": {},
   "source": [
    "###### Написание логистической регрессии "
   ]
  },
  {
   "cell_type": "code",
   "execution_count": 164,
   "id": "1c1e6675",
   "metadata": {},
   "outputs": [],
   "source": [
    "# функция лог. регрессии с использованием l2 регуляризации (переменная С):\n",
    "def l2_log_regression(X, y, k, w, C, epsilon, max_iter):\n",
    "    w1 = w[0]\n",
    "    w2 = w[1]\n",
    "    for iteration in range(max_iter):\n",
    "        summa1 = summa2 = 0\n",
    "        for i in range(len(X)):\n",
    "            summa = 1 - 1 / (1 + np.exp(-y[i] * (w1 * X[1][i] + w2 * X[2][i])))\n",
    "            summa1 += np.sum(y[i] * X[1][i] * summa)\n",
    "            summa2 += np.sum(y[i] * X[2][i] * summa)\n",
    "        w1_n = w1 + k / len(X) * summa1 - k * C * w1\n",
    "        w2_n = w2 + k / len(X) * summa2 - k * C * w2\n",
    "        if (np.sqrt((w1_n - w1) ** 2 + (w2_n - w2) ** 2) < epsilon).all():\n",
    "            n = iteration # - номер итерации\n",
    "            break\n",
    "        w1 = w1_n\n",
    "        w2 = w2_n\n",
    "        n = iteration\n",
    "        \n",
    "    predictions = []\n",
    "    for pred in range(len(y)):\n",
    "        predictions.append(1 / (1 + np.exp(np.dot(-w1, X[1][pred]) + np.dot(-w2, X[2][pred]))))\n",
    "    return n + 1, predictions"
   ]
  },
  {
   "cell_type": "code",
   "execution_count": 165,
   "id": "9e912591",
   "metadata": {},
   "outputs": [],
   "source": [
    "# практическая реализация функции лог. регрессии для датасета\n",
    "iteration_normal, predicts_normal = l2_log_regression(X, y, 0.1, np.array([0, 0]), 0, 0.00001, 10000)\n",
    "# с регуляризацией\n",
    "iteration_reg, predicts_reg = l2_log_regression(X, y, 0.1, np.array([0, 0]), 10, 0.00001, 10000)"
   ]
  },
  {
   "cell_type": "markdown",
   "id": "26ac4fc2",
   "metadata": {},
   "source": [
    "###### Проверка логистической регрессии с использованием roc_auc_score"
   ]
  },
  {
   "cell_type": "code",
   "execution_count": 166,
   "id": "1f636e57",
   "metadata": {},
   "outputs": [
    {
     "name": "stdout",
     "output_type": "stream",
     "text": [
      "roc_auc_score без регуляризации - 0.927\n",
      "Сходимость достигнута на 244 итерации\n",
      "roc_auc_score с регуляризацией - 0.936\n",
      "Сходимость достигнута на 8 итерации\n"
     ]
    }
   ],
   "source": [
    "print('roc_auc_score без регуляризации -', round(roc_auc_score(y, predicts_normal), 3))\n",
    "print(f'Сходимость достигнута на {iteration_normal} итерации')\n",
    "print('roc_auc_score с регуляризацией -', round(roc_auc_score(y, predicts_reg), 3))\n",
    "print(f'Сходимость достигнута на {iteration_reg} итерации')"
   ]
  },
  {
   "cell_type": "markdown",
   "id": "8b9cf032",
   "metadata": {},
   "source": [
    "Как видно из подсчитанных оценок качества, величина незначительно увеличилась, в то же время, сходимость была достигнута за гораздо меньшее число итераций при использовании регуляризации $l2$."
   ]
  }
 ],
 "metadata": {
  "kernelspec": {
   "display_name": "Python 3 (ipykernel)",
   "language": "python",
   "name": "python3"
  },
  "language_info": {
   "codemirror_mode": {
    "name": "ipython",
    "version": 3
   },
   "file_extension": ".py",
   "mimetype": "text/x-python",
   "name": "python",
   "nbconvert_exporter": "python",
   "pygments_lexer": "ipython3",
   "version": "3.9.6"
  }
 },
 "nbformat": 4,
 "nbformat_minor": 5
}
