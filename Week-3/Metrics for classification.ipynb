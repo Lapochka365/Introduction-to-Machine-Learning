{
 "cells": [
  {
   "cell_type": "markdown",
   "id": "afe7fd3f",
   "metadata": {},
   "source": [
    "# Метрики качества классификации"
   ]
  },
  {
   "cell_type": "markdown",
   "id": "1543e4fd",
   "metadata": {},
   "source": [
    "###### Импорт необходимых библиотек"
   ]
  },
  {
   "cell_type": "code",
   "execution_count": 64,
   "id": "ff972e20",
   "metadata": {},
   "outputs": [],
   "source": [
    "import pandas as pd\n",
    "import numpy as np\n",
    "from sklearn.metrics import accuracy_score, precision_score, recall_score, f1_score, roc_auc_score, precision_recall_curve\n",
    "import matplotlib.pyplot as plt"
   ]
  },
  {
   "cell_type": "markdown",
   "id": "e3b53083",
   "metadata": {},
   "source": [
    "######  Импорт датасета"
   ]
  },
  {
   "cell_type": "code",
   "execution_count": 2,
   "id": "6f76e4ac",
   "metadata": {},
   "outputs": [],
   "source": [
    "df = pd.read_csv('classification.csv')"
   ]
  },
  {
   "cell_type": "code",
   "execution_count": 4,
   "id": "6c90d232",
   "metadata": {},
   "outputs": [
    {
     "data": {
      "text/html": [
       "<div>\n",
       "<style scoped>\n",
       "    .dataframe tbody tr th:only-of-type {\n",
       "        vertical-align: middle;\n",
       "    }\n",
       "\n",
       "    .dataframe tbody tr th {\n",
       "        vertical-align: top;\n",
       "    }\n",
       "\n",
       "    .dataframe thead th {\n",
       "        text-align: right;\n",
       "    }\n",
       "</style>\n",
       "<table border=\"1\" class=\"dataframe\">\n",
       "  <thead>\n",
       "    <tr style=\"text-align: right;\">\n",
       "      <th></th>\n",
       "      <th>true</th>\n",
       "      <th>pred</th>\n",
       "    </tr>\n",
       "  </thead>\n",
       "  <tbody>\n",
       "    <tr>\n",
       "      <th>0</th>\n",
       "      <td>1</td>\n",
       "      <td>0</td>\n",
       "    </tr>\n",
       "    <tr>\n",
       "      <th>1</th>\n",
       "      <td>1</td>\n",
       "      <td>1</td>\n",
       "    </tr>\n",
       "    <tr>\n",
       "      <th>2</th>\n",
       "      <td>1</td>\n",
       "      <td>1</td>\n",
       "    </tr>\n",
       "    <tr>\n",
       "      <th>3</th>\n",
       "      <td>0</td>\n",
       "      <td>0</td>\n",
       "    </tr>\n",
       "    <tr>\n",
       "      <th>4</th>\n",
       "      <td>1</td>\n",
       "      <td>1</td>\n",
       "    </tr>\n",
       "    <tr>\n",
       "      <th>...</th>\n",
       "      <td>...</td>\n",
       "      <td>...</td>\n",
       "    </tr>\n",
       "    <tr>\n",
       "      <th>195</th>\n",
       "      <td>0</td>\n",
       "      <td>0</td>\n",
       "    </tr>\n",
       "    <tr>\n",
       "      <th>196</th>\n",
       "      <td>0</td>\n",
       "      <td>0</td>\n",
       "    </tr>\n",
       "    <tr>\n",
       "      <th>197</th>\n",
       "      <td>1</td>\n",
       "      <td>0</td>\n",
       "    </tr>\n",
       "    <tr>\n",
       "      <th>198</th>\n",
       "      <td>0</td>\n",
       "      <td>1</td>\n",
       "    </tr>\n",
       "    <tr>\n",
       "      <th>199</th>\n",
       "      <td>0</td>\n",
       "      <td>0</td>\n",
       "    </tr>\n",
       "  </tbody>\n",
       "</table>\n",
       "<p>200 rows × 2 columns</p>\n",
       "</div>"
      ],
      "text/plain": [
       "     true  pred\n",
       "0       1     0\n",
       "1       1     1\n",
       "2       1     1\n",
       "3       0     0\n",
       "4       1     1\n",
       "..    ...   ...\n",
       "195     0     0\n",
       "196     0     0\n",
       "197     1     0\n",
       "198     0     1\n",
       "199     0     0\n",
       "\n",
       "[200 rows x 2 columns]"
      ]
     },
     "execution_count": 4,
     "metadata": {},
     "output_type": "execute_result"
    }
   ],
   "source": [
    "# true - истинные значения классов\n",
    "# pred - предсказанные значения классов\n",
    "df"
   ]
  },
  {
   "cell_type": "markdown",
   "id": "b7059c22",
   "metadata": {},
   "source": [
    "###### Таблица ошибок классификации "
   ]
  },
  {
   "cell_type": "code",
   "execution_count": 110,
   "id": "c1ca6af6",
   "metadata": {},
   "outputs": [],
   "source": [
    "# посчет количества ошибок\n",
    "TP = 0\n",
    "FP = 0\n",
    "FN = 0\n",
    "TN = 0\n",
    "for _, row in df.iterrows():\n",
    "    if row[0] == 1 and row[0] == row[1]:\n",
    "        TP += 1\n",
    "    elif row[0] == 0 and row[0] != row[1]:\n",
    "        FP += 1\n",
    "    elif row[0] == 1 and row[0] != row[1]:\n",
    "        FN += 1\n",
    "    else:\n",
    "        TN += 1"
   ]
  },
  {
   "cell_type": "code",
   "execution_count": 111,
   "id": "d47e5b5f",
   "metadata": {
    "scrolled": true
   },
   "outputs": [
    {
     "data": {
      "text/html": [
       "<div>\n",
       "<style scoped>\n",
       "    .dataframe tbody tr th:only-of-type {\n",
       "        vertical-align: middle;\n",
       "    }\n",
       "\n",
       "    .dataframe tbody tr th {\n",
       "        vertical-align: top;\n",
       "    }\n",
       "\n",
       "    .dataframe thead th {\n",
       "        text-align: right;\n",
       "    }\n",
       "</style>\n",
       "<table border=\"1\" class=\"dataframe\">\n",
       "  <thead>\n",
       "    <tr style=\"text-align: right;\">\n",
       "      <th></th>\n",
       "      <th>Actual Positive</th>\n",
       "      <th>Actual Negative</th>\n",
       "    </tr>\n",
       "  </thead>\n",
       "  <tbody>\n",
       "    <tr>\n",
       "      <th>Predicted Positive</th>\n",
       "      <td>43</td>\n",
       "      <td>34</td>\n",
       "    </tr>\n",
       "    <tr>\n",
       "      <th>Predicted Negative</th>\n",
       "      <td>59</td>\n",
       "      <td>64</td>\n",
       "    </tr>\n",
       "  </tbody>\n",
       "</table>\n",
       "</div>"
      ],
      "text/plain": [
       "                    Actual Positive  Actual Negative\n",
       "Predicted Positive               43               34\n",
       "Predicted Negative               59               64"
      ]
     },
     "execution_count": 111,
     "metadata": {},
     "output_type": "execute_result"
    }
   ],
   "source": [
    "# создание таблицы для визуализации результатов посчета\n",
    "errors = pd.DataFrame(data=[[TP, FP], [FN, TN]], \n",
    "                      columns=['Actual Positive', 'Actual Negative'], \n",
    "                      index=['Predicted Positive', 'Predicted Negative'])\n",
    "errors"
   ]
  },
  {
   "cell_type": "markdown",
   "id": "e308e9e0",
   "metadata": {},
   "source": [
    "###### Оценка качества классификатора"
   ]
  },
  {
   "cell_type": "code",
   "execution_count": 112,
   "id": "0cc9cc3e",
   "metadata": {},
   "outputs": [
    {
     "name": "stdout",
     "output_type": "stream",
     "text": [
      "Доля ошибок классификатора (\"accuracy\"): 0.54\n"
     ]
    }
   ],
   "source": [
    "print('Доля ошибок классификатора (\"accuracy\"):', round(accuracy_score(df['true'], df['pred']), 2))"
   ]
  },
  {
   "cell_type": "code",
   "execution_count": 113,
   "id": "e0c451af",
   "metadata": {},
   "outputs": [
    {
     "name": "stdout",
     "output_type": "stream",
     "text": [
      "Полнота классификатора (\"recall\"): 0.42\n"
     ]
    }
   ],
   "source": [
    "print('Полнота классификатора (\"recall\"):', round(recall_score(df['true'], df['pred']), 2))"
   ]
  },
  {
   "cell_type": "code",
   "execution_count": 114,
   "id": "64cd3fa9",
   "metadata": {},
   "outputs": [
    {
     "name": "stdout",
     "output_type": "stream",
     "text": [
      "Точность классификатора (\"precision\"): 0.56\n"
     ]
    }
   ],
   "source": [
    "print('Точность классификатора (\"precision\"):', round(precision_score(df['true'], df['pred']), 2))"
   ]
  },
  {
   "cell_type": "code",
   "execution_count": 115,
   "id": "348b7011",
   "metadata": {},
   "outputs": [
    {
     "name": "stdout",
     "output_type": "stream",
     "text": [
      "Гармоническое среднее полноты и точности классификатора (\"f - мера\"): 0.48\n"
     ]
    }
   ],
   "source": [
    "print('Гармоническое среднее полноты и точности классификатора (\"f - мера\"):', \n",
    "      round(f1_score(df['true'], df['pred']), 2))"
   ]
  },
  {
   "cell_type": "markdown",
   "id": "be52d716",
   "metadata": {},
   "source": [
    "Таким образом, наиболее точно качество классификатора в данном случае описывается с помощью $F - меры$."
   ]
  },
  {
   "cell_type": "markdown",
   "id": "70b6dd0f",
   "metadata": {},
   "source": [
    "###### Оценка качества классификаторов, выделяющих степень принадлежности к классу "
   ]
  },
  {
   "cell_type": "code",
   "execution_count": 46,
   "id": "2662d29d",
   "metadata": {},
   "outputs": [
    {
     "data": {
      "text/html": [
       "<div>\n",
       "<style scoped>\n",
       "    .dataframe tbody tr th:only-of-type {\n",
       "        vertical-align: middle;\n",
       "    }\n",
       "\n",
       "    .dataframe tbody tr th {\n",
       "        vertical-align: top;\n",
       "    }\n",
       "\n",
       "    .dataframe thead th {\n",
       "        text-align: right;\n",
       "    }\n",
       "</style>\n",
       "<table border=\"1\" class=\"dataframe\">\n",
       "  <thead>\n",
       "    <tr style=\"text-align: right;\">\n",
       "      <th></th>\n",
       "      <th>true</th>\n",
       "      <th>score_logreg</th>\n",
       "      <th>score_svm</th>\n",
       "      <th>score_knn</th>\n",
       "      <th>score_tree</th>\n",
       "    </tr>\n",
       "  </thead>\n",
       "  <tbody>\n",
       "    <tr>\n",
       "      <th>0</th>\n",
       "      <td>0</td>\n",
       "      <td>0.683832</td>\n",
       "      <td>0.145976</td>\n",
       "      <td>0.787063</td>\n",
       "      <td>0.500000</td>\n",
       "    </tr>\n",
       "    <tr>\n",
       "      <th>1</th>\n",
       "      <td>1</td>\n",
       "      <td>0.801966</td>\n",
       "      <td>0.239511</td>\n",
       "      <td>1.000000</td>\n",
       "      <td>0.833333</td>\n",
       "    </tr>\n",
       "    <tr>\n",
       "      <th>2</th>\n",
       "      <td>0</td>\n",
       "      <td>0.382315</td>\n",
       "      <td>-0.245701</td>\n",
       "      <td>0.000000</td>\n",
       "      <td>0.000000</td>\n",
       "    </tr>\n",
       "    <tr>\n",
       "      <th>3</th>\n",
       "      <td>1</td>\n",
       "      <td>0.506797</td>\n",
       "      <td>-0.137058</td>\n",
       "      <td>0.000000</td>\n",
       "      <td>0.105263</td>\n",
       "    </tr>\n",
       "    <tr>\n",
       "      <th>4</th>\n",
       "      <td>1</td>\n",
       "      <td>0.488781</td>\n",
       "      <td>-0.154148</td>\n",
       "      <td>0.000000</td>\n",
       "      <td>0.105263</td>\n",
       "    </tr>\n",
       "    <tr>\n",
       "      <th>...</th>\n",
       "      <td>...</td>\n",
       "      <td>...</td>\n",
       "      <td>...</td>\n",
       "      <td>...</td>\n",
       "      <td>...</td>\n",
       "    </tr>\n",
       "    <tr>\n",
       "      <th>195</th>\n",
       "      <td>0</td>\n",
       "      <td>0.573801</td>\n",
       "      <td>-0.088203</td>\n",
       "      <td>0.284192</td>\n",
       "      <td>0.400000</td>\n",
       "    </tr>\n",
       "    <tr>\n",
       "      <th>196</th>\n",
       "      <td>0</td>\n",
       "      <td>0.624422</td>\n",
       "      <td>-0.012315</td>\n",
       "      <td>0.205437</td>\n",
       "      <td>0.400000</td>\n",
       "    </tr>\n",
       "    <tr>\n",
       "      <th>197</th>\n",
       "      <td>1</td>\n",
       "      <td>0.425538</td>\n",
       "      <td>-0.135673</td>\n",
       "      <td>0.382351</td>\n",
       "      <td>0.700000</td>\n",
       "    </tr>\n",
       "    <tr>\n",
       "      <th>198</th>\n",
       "      <td>0</td>\n",
       "      <td>0.905270</td>\n",
       "      <td>0.583806</td>\n",
       "      <td>1.000000</td>\n",
       "      <td>1.000000</td>\n",
       "    </tr>\n",
       "    <tr>\n",
       "      <th>199</th>\n",
       "      <td>0</td>\n",
       "      <td>0.275594</td>\n",
       "      <td>-0.422160</td>\n",
       "      <td>0.743567</td>\n",
       "      <td>0.642857</td>\n",
       "    </tr>\n",
       "  </tbody>\n",
       "</table>\n",
       "<p>200 rows × 5 columns</p>\n",
       "</div>"
      ],
      "text/plain": [
       "     true  score_logreg  score_svm  score_knn  score_tree\n",
       "0       0      0.683832   0.145976   0.787063    0.500000\n",
       "1       1      0.801966   0.239511   1.000000    0.833333\n",
       "2       0      0.382315  -0.245701   0.000000    0.000000\n",
       "3       1      0.506797  -0.137058   0.000000    0.105263\n",
       "4       1      0.488781  -0.154148   0.000000    0.105263\n",
       "..    ...           ...        ...        ...         ...\n",
       "195     0      0.573801  -0.088203   0.284192    0.400000\n",
       "196     0      0.624422  -0.012315   0.205437    0.400000\n",
       "197     1      0.425538  -0.135673   0.382351    0.700000\n",
       "198     0      0.905270   0.583806   1.000000    1.000000\n",
       "199     0      0.275594  -0.422160   0.743567    0.642857\n",
       "\n",
       "[200 rows x 5 columns]"
      ]
     },
     "execution_count": 46,
     "metadata": {},
     "output_type": "execute_result"
    }
   ],
   "source": [
    "df2 = pd.read_csv('scores.csv')\n",
    "# true - истинные значения классов\n",
    "# другие колонки - предсказанная степень принадлежности к классу 1 \n",
    "df2"
   ]
  },
  {
   "cell_type": "markdown",
   "id": "31f30480",
   "metadata": {},
   "source": [
    "__Площади под ROC-кривой__"
   ]
  },
  {
   "cell_type": "code",
   "execution_count": 59,
   "id": "ee46353a",
   "metadata": {},
   "outputs": [
    {
     "data": {
      "text/plain": [
       "[('score_logreg', 0.719187675070028),\n",
       " ('score_svm', 0.7086834733893557),\n",
       " ('score_knn', 0.6351540616246498),\n",
       " ('score_tree', 0.6919267707082833)]"
      ]
     },
     "execution_count": 59,
     "metadata": {},
     "output_type": "execute_result"
    }
   ],
   "source": [
    "# рассчет показателей площади под ROC-кривой для каждого из классификаторов\n",
    "roc_auc_scores = []\n",
    "for row in df2:\n",
    "    if row == 'true':\n",
    "        continue\n",
    "    else:\n",
    "        roc_auc_scores.append((row, roc_auc_score(df2['true'], df2[row])))\n",
    "roc_auc_scores"
   ]
  },
  {
   "cell_type": "markdown",
   "id": "ad6e893a",
   "metadata": {},
   "source": [
    "Наилучший показатель качества имеется у классификатора - логистической регрессии."
   ]
  },
  {
   "cell_type": "markdown",
   "id": "f5ef987f",
   "metadata": {},
   "source": [
    "__Использование PR-RC-кривой для нахождения наиболее точного классификатора при полноте в $70\\%$__"
   ]
  },
  {
   "cell_type": "code",
   "execution_count": 103,
   "id": "29ff8aa0",
   "metadata": {},
   "outputs": [
    {
     "data": {
      "image/png": "[encoded data removed]",
      "text/plain": [
       "<Figure size 864x432 with 1 Axes>"
      ]
     },
     "metadata": {
      "needs_background": "light"
     },
     "output_type": "display_data"
    }
   ],
   "source": [
    "plt.rcParams.update({'font.size': 12})\n",
    "plt.figure(figsize=(12,6))\n",
    "precisions = []\n",
    "\n",
    "# построение PR-RC-кривой и нахождение максимальной точности при полноте, больше или равной 0.7\n",
    "for row in df2:\n",
    "    if row == 'true':\n",
    "        continue\n",
    "    precision, recall, thresholds = precision_recall_curve(df2['true'], df2[row])\n",
    "    indices = np.where(recall >= 0.7)[0]\n",
    "    precisions.append((row, max(np.take(precision, indices))))\n",
    "    plt.plot(recall, precision, label=row)\n",
    "\n",
    "plt.xticks(np.arange(0, 1.0, 0.1))\n",
    "plt.yticks(np.arange(0, 1.0, 0.1))\n",
    "plt.ylim(0.4,1.05)\n",
    "plt.xlim(0,1)\n",
    "plt.grid(alpha=0.1)\n",
    "plt.xlabel('Полнота')\n",
    "plt.ylabel('Точность')\n",
    "plt.legend()\n",
    "plt.show()"
   ]
  },
  {
   "cell_type": "code",
   "execution_count": 104,
   "id": "b2a3665d",
   "metadata": {},
   "outputs": [
    {
     "data": {
      "text/plain": [
       "[('score_logreg', 0.6302521008403361),\n",
       " ('score_svm', 0.6228070175438597),\n",
       " ('score_knn', 0.6065573770491803),\n",
       " ('score_tree', 0.6517857142857143)]"
      ]
     },
     "execution_count": 104,
     "metadata": {},
     "output_type": "execute_result"
    }
   ],
   "source": [
    "precisions"
   ]
  },
  {
   "cell_type": "markdown",
   "id": "c17975d1",
   "metadata": {},
   "source": [
    "Как видно из графика, а также по итоговым показателям точности при рассчете кривой, наилучшее значение точности показал классификатор - решающее дерево."
   ]
  }
 ],
 "metadata": {
  "kernelspec": {
   "display_name": "Python 3 (ipykernel)",
   "language": "python",
   "name": "python3"
  },
  "language_info": {
   "codemirror_mode": {
    "name": "ipython",
    "version": 3
   },
   "file_extension": ".py",
   "mimetype": "text/x-python",
   "name": "python",
   "nbconvert_exporter": "python",
   "pygments_lexer": "ipython3",
   "version": "3.9.6"
  }
 },
 "nbformat": 4,
 "nbformat_minor": 5
}
