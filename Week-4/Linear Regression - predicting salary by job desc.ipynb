{
 "cells": [
  {
   "cell_type": "markdown",
   "id": "d0dd6ffe",
   "metadata": {},
   "source": [
    "# Линейная регрессия: прогноз оклада по описанию вакансии"
   ]
  },
  {
   "cell_type": "markdown",
   "id": "3799ab5e",
   "metadata": {},
   "source": [
    "###### Импорт необходимых библиотек"
   ]
  },
  {
   "cell_type": "code",
   "execution_count": 74,
   "id": "1b5151ce",
   "metadata": {},
   "outputs": [],
   "source": [
    "import numpy as np\n",
    "import pandas as pd\n",
    "from sklearn.feature_extraction.text import TfidfVectorizer\n",
    "from sklearn.feature_extraction import DictVectorizer\n",
    "from scipy.sparse import hstack\n",
    "from sklearn.linear_model import Ridge\n",
    "from sklearn.model_selection import KFold, cross_val_score\n",
    "import matplotlib.pyplot as plt"
   ]
  },
  {
   "cell_type": "markdown",
   "id": "c2c4db8a",
   "metadata": {},
   "source": [
    "###### Импорт датасета и предобработка данных "
   ]
  },
  {
   "cell_type": "code",
   "execution_count": 5,
   "id": "595f2c78",
   "metadata": {},
   "outputs": [
    {
     "data": {
      "text/html": [
       "<div>\n",
       "<style scoped>\n",
       "    .dataframe tbody tr th:only-of-type {\n",
       "        vertical-align: middle;\n",
       "    }\n",
       "\n",
       "    .dataframe tbody tr th {\n",
       "        vertical-align: top;\n",
       "    }\n",
       "\n",
       "    .dataframe thead th {\n",
       "        text-align: right;\n",
       "    }\n",
       "</style>\n",
       "<table border=\"1\" class=\"dataframe\">\n",
       "  <thead>\n",
       "    <tr style=\"text-align: right;\">\n",
       "      <th></th>\n",
       "      <th>FullDescription</th>\n",
       "      <th>LocationNormalized</th>\n",
       "      <th>ContractTime</th>\n",
       "      <th>SalaryNormalized</th>\n",
       "    </tr>\n",
       "  </thead>\n",
       "  <tbody>\n",
       "    <tr>\n",
       "      <th>0</th>\n",
       "      <td>International Sales Manager London ****k  ****...</td>\n",
       "      <td>London</td>\n",
       "      <td>permanent</td>\n",
       "      <td>33000</td>\n",
       "    </tr>\n",
       "    <tr>\n",
       "      <th>1</th>\n",
       "      <td>An ideal opportunity for an individual that ha...</td>\n",
       "      <td>London</td>\n",
       "      <td>permanent</td>\n",
       "      <td>50000</td>\n",
       "    </tr>\n",
       "    <tr>\n",
       "      <th>2</th>\n",
       "      <td>Online Content and Brand Manager// Luxury Reta...</td>\n",
       "      <td>South East London</td>\n",
       "      <td>permanent</td>\n",
       "      <td>40000</td>\n",
       "    </tr>\n",
       "    <tr>\n",
       "      <th>3</th>\n",
       "      <td>A great local marketleader is seeking a perman...</td>\n",
       "      <td>Dereham</td>\n",
       "      <td>permanent</td>\n",
       "      <td>22500</td>\n",
       "    </tr>\n",
       "    <tr>\n",
       "      <th>4</th>\n",
       "      <td>Registered Nurse / RGN  Nursing Home for Young...</td>\n",
       "      <td>Sutton Coldfield</td>\n",
       "      <td>NaN</td>\n",
       "      <td>20355</td>\n",
       "    </tr>\n",
       "  </tbody>\n",
       "</table>\n",
       "</div>"
      ],
      "text/plain": [
       "                                     FullDescription LocationNormalized  \\\n",
       "0  International Sales Manager London ****k  ****...             London   \n",
       "1  An ideal opportunity for an individual that ha...             London   \n",
       "2  Online Content and Brand Manager// Luxury Reta...  South East London   \n",
       "3  A great local marketleader is seeking a perman...            Dereham   \n",
       "4  Registered Nurse / RGN  Nursing Home for Young...   Sutton Coldfield   \n",
       "\n",
       "  ContractTime  SalaryNormalized  \n",
       "0    permanent             33000  \n",
       "1    permanent             50000  \n",
       "2    permanent             40000  \n",
       "3    permanent             22500  \n",
       "4          NaN             20355  "
      ]
     },
     "execution_count": 5,
     "metadata": {},
     "output_type": "execute_result"
    }
   ],
   "source": [
    "data_train = pd.read_csv('salary-train.csv')\n",
    "data_train.head(5)"
   ]
  },
  {
   "cell_type": "code",
   "execution_count": 10,
   "id": "0b6ad962",
   "metadata": {},
   "outputs": [],
   "source": [
    "# приведение описаний вакансий к нижнему регистру\n",
    "data_train['FullDescription'] = data_train['FullDescription'].apply(lambda x: x.lower())\n",
    "# замена любых символов, отличных от букв и цифр, на пробелы\n",
    "data_train['FullDescription'] = data_train['FullDescription'].replace('[^a-zA-Z0-9]', ' ', regex=True)"
   ]
  },
  {
   "cell_type": "code",
   "execution_count": 11,
   "id": "62eed562",
   "metadata": {},
   "outputs": [
    {
     "data": {
      "text/html": [
       "<div>\n",
       "<style scoped>\n",
       "    .dataframe tbody tr th:only-of-type {\n",
       "        vertical-align: middle;\n",
       "    }\n",
       "\n",
       "    .dataframe tbody tr th {\n",
       "        vertical-align: top;\n",
       "    }\n",
       "\n",
       "    .dataframe thead th {\n",
       "        text-align: right;\n",
       "    }\n",
       "</style>\n",
       "<table border=\"1\" class=\"dataframe\">\n",
       "  <thead>\n",
       "    <tr style=\"text-align: right;\">\n",
       "      <th></th>\n",
       "      <th>FullDescription</th>\n",
       "      <th>LocationNormalized</th>\n",
       "      <th>ContractTime</th>\n",
       "      <th>SalaryNormalized</th>\n",
       "    </tr>\n",
       "  </thead>\n",
       "  <tbody>\n",
       "    <tr>\n",
       "      <th>0</th>\n",
       "      <td>international sales manager london     k      ...</td>\n",
       "      <td>London</td>\n",
       "      <td>permanent</td>\n",
       "      <td>33000</td>\n",
       "    </tr>\n",
       "    <tr>\n",
       "      <th>1</th>\n",
       "      <td>an ideal opportunity for an individual that ha...</td>\n",
       "      <td>London</td>\n",
       "      <td>permanent</td>\n",
       "      <td>50000</td>\n",
       "    </tr>\n",
       "    <tr>\n",
       "      <th>2</th>\n",
       "      <td>online content and brand manager   luxury reta...</td>\n",
       "      <td>South East London</td>\n",
       "      <td>permanent</td>\n",
       "      <td>40000</td>\n",
       "    </tr>\n",
       "    <tr>\n",
       "      <th>3</th>\n",
       "      <td>a great local marketleader is seeking a perman...</td>\n",
       "      <td>Dereham</td>\n",
       "      <td>permanent</td>\n",
       "      <td>22500</td>\n",
       "    </tr>\n",
       "    <tr>\n",
       "      <th>4</th>\n",
       "      <td>registered nurse   rgn  nursing home for young...</td>\n",
       "      <td>Sutton Coldfield</td>\n",
       "      <td>NaN</td>\n",
       "      <td>20355</td>\n",
       "    </tr>\n",
       "  </tbody>\n",
       "</table>\n",
       "</div>"
      ],
      "text/plain": [
       "                                     FullDescription LocationNormalized  \\\n",
       "0  international sales manager london     k      ...             London   \n",
       "1  an ideal opportunity for an individual that ha...             London   \n",
       "2  online content and brand manager   luxury reta...  South East London   \n",
       "3  a great local marketleader is seeking a perman...            Dereham   \n",
       "4  registered nurse   rgn  nursing home for young...   Sutton Coldfield   \n",
       "\n",
       "  ContractTime  SalaryNormalized  \n",
       "0    permanent             33000  \n",
       "1    permanent             50000  \n",
       "2    permanent             40000  \n",
       "3    permanent             22500  \n",
       "4          NaN             20355  "
      ]
     },
     "execution_count": 11,
     "metadata": {},
     "output_type": "execute_result"
    }
   ],
   "source": [
    "# проверка, что описания вакансий изменились\n",
    "data_train.head(5)"
   ]
  },
  {
   "cell_type": "code",
   "execution_count": 14,
   "id": "fbdf072d",
   "metadata": {},
   "outputs": [],
   "source": [
    "# Преобразование описаний вакансий в векторы признака\n",
    "vectorizer = TfidfVectorizer(min_df=5)\n",
    "X_Description = vectorizer.fit_transform(data_train['FullDescription'])"
   ]
  },
  {
   "cell_type": "code",
   "execution_count": 18,
   "id": "db5719cb",
   "metadata": {},
   "outputs": [],
   "source": [
    "# Замена пропусков в столбцах на строку \"nan\"\n",
    "data_train['LocationNormalized'].fillna('nan', inplace=True)\n",
    "data_train['ContractTime'].fillna('nan', inplace=True)\n",
    "# Преобразование двух столбцов из категориальных признаков в бинарные\n",
    "encoder = DictVectorizer()\n",
    "X_Category = encoder.fit_transform(data_train[['LocationNormalized', 'ContractTime']].to_dict(orient='records'))"
   ]
  },
  {
   "cell_type": "code",
   "execution_count": 29,
   "id": "0013b845",
   "metadata": {
    "scrolled": false
   },
   "outputs": [
    {
     "name": "stdout",
     "output_type": "stream",
     "text": [
      "Размер векторов описаний вакансий: (60000, 22861)\n",
      "Размер измененных категориальных признаков: (60000, 1766)\n",
      "Размер обработанной выборки: (60000, 24627)\n",
      "Разница в столбцах: 0\n"
     ]
    }
   ],
   "source": [
    "# Образование выборки путем совмещения векторов описаний вакансий с обработанными категориальными признаками\n",
    "X_train = hstack([X_Description, X_Category])\n",
    "y_train = data_train['SalaryNormalized']\n",
    "print('Размер векторов описаний вакансий:', X_Description.shape)\n",
    "print('Размер измененных категориальных признаков:', X_Category.shape)\n",
    "print('Размер обработанной выборки:', X_train.shape)\n",
    "print('Разница в столбцах:', (X_Description.shape[1] + X_Category.shape[1]) - X_train.shape[1])"
   ]
  },
  {
   "cell_type": "markdown",
   "id": "f2cf608d",
   "metadata": {},
   "source": [
    "###### Создание и обучение гребневой регрессии "
   ]
  },
  {
   "cell_type": "code",
   "execution_count": 31,
   "id": "272f1007",
   "metadata": {
    "scrolled": true
   },
   "outputs": [
    {
     "data": {
      "text/plain": [
       "Ridge(random_state=241)"
      ]
     },
     "execution_count": 31,
     "metadata": {},
     "output_type": "execute_result"
    }
   ],
   "source": [
    "RidgeRegressor = Ridge(alpha=1.0, random_state=241)\n",
    "RidgeRegressor.fit(X_train, y_train)"
   ]
  },
  {
   "cell_type": "markdown",
   "id": "a0b66ba7",
   "metadata": {},
   "source": [
    "###### Прогнозирование на нескольких примерах при помощи обученной регрессии"
   ]
  },
  {
   "cell_type": "code",
   "execution_count": 52,
   "id": "7336a200",
   "metadata": {},
   "outputs": [],
   "source": [
    "df_test1 = pd.read_csv('salary-test-mini.csv')"
   ]
  },
  {
   "cell_type": "code",
   "execution_count": 53,
   "id": "33886dd4",
   "metadata": {},
   "outputs": [],
   "source": [
    "# преобразования признаков\n",
    "df_test1['FullDescription'] = df_test1['FullDescription'].apply(lambda x: x.lower())\n",
    "df_test1['FullDescription'] = df_test1['FullDescription'].replace('[^a-zA-Z0-9]', ' ', regex=True)\n",
    "X_test1_Description = vectorizer.transform(df_test1['FullDescription'])\n",
    "\n",
    "X_test1_Category = encoder.transform(df_test1[['LocationNormalized', 'ContractTime']].to_dict(orient='records'))\n",
    "X_test1 = hstack([X_test1_Description, X_test1_Category])"
   ]
  },
  {
   "cell_type": "code",
   "execution_count": 54,
   "id": "829a1fb6",
   "metadata": {},
   "outputs": [],
   "source": [
    "predictions = RidgeRegressor.predict(X_test1)"
   ]
  },
  {
   "cell_type": "code",
   "execution_count": 55,
   "id": "c83e7091",
   "metadata": {},
   "outputs": [
    {
     "data": {
      "text/html": [
       "<div>\n",
       "<style scoped>\n",
       "    .dataframe tbody tr th:only-of-type {\n",
       "        vertical-align: middle;\n",
       "    }\n",
       "\n",
       "    .dataframe tbody tr th {\n",
       "        vertical-align: top;\n",
       "    }\n",
       "\n",
       "    .dataframe thead th {\n",
       "        text-align: right;\n",
       "    }\n",
       "</style>\n",
       "<table border=\"1\" class=\"dataframe\">\n",
       "  <thead>\n",
       "    <tr style=\"text-align: right;\">\n",
       "      <th></th>\n",
       "      <th>FullDescription</th>\n",
       "      <th>LocationNormalized</th>\n",
       "      <th>ContractTime</th>\n",
       "      <th>SalaryNormalized</th>\n",
       "    </tr>\n",
       "  </thead>\n",
       "  <tbody>\n",
       "    <tr>\n",
       "      <th>0</th>\n",
       "      <td>we currently have a vacancy for an hr project ...</td>\n",
       "      <td>Milton Keynes</td>\n",
       "      <td>contract</td>\n",
       "      <td>56576.52</td>\n",
       "    </tr>\n",
       "    <tr>\n",
       "      <th>1</th>\n",
       "      <td>a web developer opportunity has arisen with an...</td>\n",
       "      <td>Manchester</td>\n",
       "      <td>permanent</td>\n",
       "      <td>37136.22</td>\n",
       "    </tr>\n",
       "  </tbody>\n",
       "</table>\n",
       "</div>"
      ],
      "text/plain": [
       "                                     FullDescription LocationNormalized  \\\n",
       "0  we currently have a vacancy for an hr project ...      Milton Keynes   \n",
       "1  a web developer opportunity has arisen with an...         Manchester   \n",
       "\n",
       "  ContractTime  SalaryNormalized  \n",
       "0     contract          56576.52  \n",
       "1    permanent          37136.22  "
      ]
     },
     "execution_count": 55,
     "metadata": {},
     "output_type": "execute_result"
    }
   ],
   "source": [
    "df_test1['SalaryNormalized'] = list(map(lambda x: round(x, 2), predictions))\n",
    "df_test1"
   ]
  },
  {
   "cell_type": "markdown",
   "id": "400ec7f2",
   "metadata": {},
   "source": [
    "###### Оценка качества гребневой регрессии при различных $\\alpha$"
   ]
  },
  {
   "cell_type": "code",
   "execution_count": 97,
   "id": "53c32293",
   "metadata": {},
   "outputs": [],
   "source": [
    "cv = KFold(n_splits=3, shuffle=True, random_state=42)\n",
    "alphas = np.arange(0.1, 11.0, 1.0)\n",
    "scores = []\n",
    "for alpha in alphas:\n",
    "    score = cross_val_score(Ridge(alpha=alpha), X_train, y_train, scoring='r2', cv=cv).mean()\n",
    "    scores.append(score)"
   ]
  },
  {
   "cell_type": "code",
   "execution_count": 98,
   "id": "030758d5",
   "metadata": {},
   "outputs": [
    {
     "data": {
      "image/png": "[encoded data removed]",
      "text/plain": [
       "<Figure size 864x432 with 1 Axes>"
      ]
     },
     "metadata": {
      "needs_background": "light"
     },
     "output_type": "display_data"
    }
   ],
   "source": [
    "plt.rcParams.update({'font.size': 12})\n",
    "plt.figure(figsize=(12,6))\n",
    "plt.plot(alphas, scores, marker='o', color='crimson', ms=8.0,  markerfacecolor='navy', lw=3.0, alpha=0.7)\n",
    "plt.xticks(np.arange(0, 11))\n",
    "plt.grid(alpha=0.1)\n",
    "plt.xlabel('Значение Alpha')\n",
    "plt.ylabel('Оценки качества модели')\n",
    "plt.title('Зависимость качества модели от значения Alpha')\n",
    "plt.show()"
   ]
  },
  {
   "cell_type": "markdown",
   "id": "da9cc42d",
   "metadata": {},
   "source": [
    "Таким образом, из графика видно, что было выбрано оптимальное значение $\\alpha$ при данной модели и обработанных данных."
   ]
  }
 ],
 "metadata": {
  "kernelspec": {
   "display_name": "Python 3 (ipykernel)",
   "language": "python",
   "name": "python3"
  },
  "language_info": {
   "codemirror_mode": {
    "name": "ipython",
    "version": 3
   },
   "file_extension": ".py",
   "mimetype": "text/x-python",
   "name": "python",
   "nbconvert_exporter": "python",
   "pygments_lexer": "ipython3",
   "version": "3.9.6"
  }
 },
 "nbformat": 4,
 "nbformat_minor": 5
}
