{
 "cells": [
  {
   "cell_type": "markdown",
   "id": "35d8b252",
   "metadata": {},
   "source": [
    "# Составление фондового индекса"
   ]
  },
  {
   "cell_type": "markdown",
   "id": "598da925",
   "metadata": {},
   "source": [
    "###### Импорт необходимых библиотек"
   ]
  },
  {
   "cell_type": "code",
   "execution_count": 7,
   "id": "4c8049b5",
   "metadata": {},
   "outputs": [],
   "source": [
    "import pandas as pd\n",
    "import numpy as np\n",
    "from sklearn.decomposition import PCA"
   ]
  },
  {
   "cell_type": "markdown",
   "id": "1d303c20",
   "metadata": {},
   "source": [
    "###### Импорт датасета "
   ]
  },
  {
   "cell_type": "code",
   "execution_count": 9,
   "id": "fe6a66d6",
   "metadata": {
    "scrolled": true
   },
   "outputs": [
    {
     "data": {
      "text/html": [
       "<div>\n",
       "<style scoped>\n",
       "    .dataframe tbody tr th:only-of-type {\n",
       "        vertical-align: middle;\n",
       "    }\n",
       "\n",
       "    .dataframe tbody tr th {\n",
       "        vertical-align: top;\n",
       "    }\n",
       "\n",
       "    .dataframe thead th {\n",
       "        text-align: right;\n",
       "    }\n",
       "</style>\n",
       "<table border=\"1\" class=\"dataframe\">\n",
       "  <thead>\n",
       "    <tr style=\"text-align: right;\">\n",
       "      <th></th>\n",
       "      <th>AXP</th>\n",
       "      <th>BA</th>\n",
       "      <th>CAT</th>\n",
       "      <th>CSCO</th>\n",
       "      <th>CVX</th>\n",
       "      <th>DD</th>\n",
       "      <th>DIS</th>\n",
       "      <th>GE</th>\n",
       "      <th>GS</th>\n",
       "      <th>HD</th>\n",
       "      <th>...</th>\n",
       "      <th>PFE</th>\n",
       "      <th>PG</th>\n",
       "      <th>T</th>\n",
       "      <th>TRV</th>\n",
       "      <th>UNH</th>\n",
       "      <th>UTX</th>\n",
       "      <th>V</th>\n",
       "      <th>VZ</th>\n",
       "      <th>WMT</th>\n",
       "      <th>XOM</th>\n",
       "    </tr>\n",
       "    <tr>\n",
       "      <th>date</th>\n",
       "      <th></th>\n",
       "      <th></th>\n",
       "      <th></th>\n",
       "      <th></th>\n",
       "      <th></th>\n",
       "      <th></th>\n",
       "      <th></th>\n",
       "      <th></th>\n",
       "      <th></th>\n",
       "      <th></th>\n",
       "      <th></th>\n",
       "      <th></th>\n",
       "      <th></th>\n",
       "      <th></th>\n",
       "      <th></th>\n",
       "      <th></th>\n",
       "      <th></th>\n",
       "      <th></th>\n",
       "      <th></th>\n",
       "      <th></th>\n",
       "      <th></th>\n",
       "    </tr>\n",
       "  </thead>\n",
       "  <tbody>\n",
       "    <tr>\n",
       "      <th>2013-09-23</th>\n",
       "      <td>76.440002</td>\n",
       "      <td>117.510002</td>\n",
       "      <td>85.029999</td>\n",
       "      <td>24.270000</td>\n",
       "      <td>125.519997</td>\n",
       "      <td>59.409999</td>\n",
       "      <td>64.750000</td>\n",
       "      <td>24.280001</td>\n",
       "      <td>165.250000</td>\n",
       "      <td>75.910004</td>\n",
       "      <td>...</td>\n",
       "      <td>28.799999</td>\n",
       "      <td>79.279999</td>\n",
       "      <td>34.220001</td>\n",
       "      <td>86.379997</td>\n",
       "      <td>71.820000</td>\n",
       "      <td>109.419998</td>\n",
       "      <td>196.240005</td>\n",
       "      <td>47.980000</td>\n",
       "      <td>76.419998</td>\n",
       "      <td>87.750000</td>\n",
       "    </tr>\n",
       "    <tr>\n",
       "      <th>2013-09-24</th>\n",
       "      <td>76.070000</td>\n",
       "      <td>119.000000</td>\n",
       "      <td>85.110001</td>\n",
       "      <td>24.139999</td>\n",
       "      <td>124.489998</td>\n",
       "      <td>59.319997</td>\n",
       "      <td>64.320000</td>\n",
       "      <td>24.320000</td>\n",
       "      <td>162.970001</td>\n",
       "      <td>76.040001</td>\n",
       "      <td>...</td>\n",
       "      <td>28.709999</td>\n",
       "      <td>78.620003</td>\n",
       "      <td>34.090000</td>\n",
       "      <td>85.870003</td>\n",
       "      <td>72.320000</td>\n",
       "      <td>110.000000</td>\n",
       "      <td>193.339996</td>\n",
       "      <td>47.270000</td>\n",
       "      <td>75.750000</td>\n",
       "      <td>87.360001</td>\n",
       "    </tr>\n",
       "    <tr>\n",
       "      <th>2013-09-25</th>\n",
       "      <td>75.989998</td>\n",
       "      <td>118.510002</td>\n",
       "      <td>84.500000</td>\n",
       "      <td>24.430000</td>\n",
       "      <td>124.070000</td>\n",
       "      <td>59.319997</td>\n",
       "      <td>64.449997</td>\n",
       "      <td>24.230000</td>\n",
       "      <td>162.309998</td>\n",
       "      <td>75.519997</td>\n",
       "      <td>...</td>\n",
       "      <td>28.490000</td>\n",
       "      <td>77.720001</td>\n",
       "      <td>34.049999</td>\n",
       "      <td>85.980003</td>\n",
       "      <td>71.980003</td>\n",
       "      <td>109.260002</td>\n",
       "      <td>191.559998</td>\n",
       "      <td>46.950001</td>\n",
       "      <td>74.650002</td>\n",
       "      <td>87.139999</td>\n",
       "    </tr>\n",
       "    <tr>\n",
       "      <th>2013-09-26</th>\n",
       "      <td>76.320000</td>\n",
       "      <td>119.379997</td>\n",
       "      <td>84.199997</td>\n",
       "      <td>23.770000</td>\n",
       "      <td>123.489998</td>\n",
       "      <td>59.509996</td>\n",
       "      <td>65.239998</td>\n",
       "      <td>24.250000</td>\n",
       "      <td>162.289993</td>\n",
       "      <td>76.070000</td>\n",
       "      <td>...</td>\n",
       "      <td>28.520000</td>\n",
       "      <td>78.050003</td>\n",
       "      <td>34.230000</td>\n",
       "      <td>85.830002</td>\n",
       "      <td>72.160004</td>\n",
       "      <td>109.660004</td>\n",
       "      <td>193.559998</td>\n",
       "      <td>47.669998</td>\n",
       "      <td>74.620003</td>\n",
       "      <td>87.070000</td>\n",
       "    </tr>\n",
       "    <tr>\n",
       "      <th>2013-09-27</th>\n",
       "      <td>75.889999</td>\n",
       "      <td>118.739998</td>\n",
       "      <td>83.800003</td>\n",
       "      <td>23.330000</td>\n",
       "      <td>122.639999</td>\n",
       "      <td>59.009995</td>\n",
       "      <td>65.190002</td>\n",
       "      <td>24.049999</td>\n",
       "      <td>159.850006</td>\n",
       "      <td>75.959999</td>\n",
       "      <td>...</td>\n",
       "      <td>28.879999</td>\n",
       "      <td>77.209999</td>\n",
       "      <td>33.980000</td>\n",
       "      <td>85.410004</td>\n",
       "      <td>71.989998</td>\n",
       "      <td>109.360001</td>\n",
       "      <td>193.050003</td>\n",
       "      <td>47.000000</td>\n",
       "      <td>74.360001</td>\n",
       "      <td>86.900002</td>\n",
       "    </tr>\n",
       "  </tbody>\n",
       "</table>\n",
       "<p>5 rows × 30 columns</p>\n",
       "</div>"
      ],
      "text/plain": [
       "                  AXP          BA        CAT       CSCO         CVX  \\\n",
       "date                                                                  \n",
       "2013-09-23  76.440002  117.510002  85.029999  24.270000  125.519997   \n",
       "2013-09-24  76.070000  119.000000  85.110001  24.139999  124.489998   \n",
       "2013-09-25  75.989998  118.510002  84.500000  24.430000  124.070000   \n",
       "2013-09-26  76.320000  119.379997  84.199997  23.770000  123.489998   \n",
       "2013-09-27  75.889999  118.739998  83.800003  23.330000  122.639999   \n",
       "\n",
       "                   DD        DIS         GE          GS         HD  ...  \\\n",
       "date                                                                ...   \n",
       "2013-09-23  59.409999  64.750000  24.280001  165.250000  75.910004  ...   \n",
       "2013-09-24  59.319997  64.320000  24.320000  162.970001  76.040001  ...   \n",
       "2013-09-25  59.319997  64.449997  24.230000  162.309998  75.519997  ...   \n",
       "2013-09-26  59.509996  65.239998  24.250000  162.289993  76.070000  ...   \n",
       "2013-09-27  59.009995  65.190002  24.049999  159.850006  75.959999  ...   \n",
       "\n",
       "                  PFE         PG          T        TRV        UNH         UTX  \\\n",
       "date                                                                            \n",
       "2013-09-23  28.799999  79.279999  34.220001  86.379997  71.820000  109.419998   \n",
       "2013-09-24  28.709999  78.620003  34.090000  85.870003  72.320000  110.000000   \n",
       "2013-09-25  28.490000  77.720001  34.049999  85.980003  71.980003  109.260002   \n",
       "2013-09-26  28.520000  78.050003  34.230000  85.830002  72.160004  109.660004   \n",
       "2013-09-27  28.879999  77.209999  33.980000  85.410004  71.989998  109.360001   \n",
       "\n",
       "                     V         VZ        WMT        XOM  \n",
       "date                                                     \n",
       "2013-09-23  196.240005  47.980000  76.419998  87.750000  \n",
       "2013-09-24  193.339996  47.270000  75.750000  87.360001  \n",
       "2013-09-25  191.559998  46.950001  74.650002  87.139999  \n",
       "2013-09-26  193.559998  47.669998  74.620003  87.070000  \n",
       "2013-09-27  193.050003  47.000000  74.360001  86.900002  \n",
       "\n",
       "[5 rows x 30 columns]"
      ]
     },
     "execution_count": 9,
     "metadata": {},
     "output_type": "execute_result"
    }
   ],
   "source": [
    "df = pd.read_csv('close_prices.csv', index_col='date')\n",
    "df.head(5)"
   ]
  },
  {
   "cell_type": "markdown",
   "id": "8481a848",
   "metadata": {},
   "source": [
    "###### Использование метода главных компонент с датасетом"
   ]
  },
  {
   "cell_type": "code",
   "execution_count": 24,
   "id": "a39d004b",
   "metadata": {},
   "outputs": [
    {
     "data": {
      "text/plain": [
       "PCA(n_components=10)"
      ]
     },
     "execution_count": 24,
     "metadata": {},
     "output_type": "execute_result"
    }
   ],
   "source": [
    "# Создание и обучение метода главных компонент на датасете\n",
    "PCA_prices = PCA(n_components=10)\n",
    "PCA_prices.fit(df)"
   ]
  },
  {
   "cell_type": "code",
   "execution_count": 68,
   "id": "cc6e1335",
   "metadata": {},
   "outputs": [
    {
     "name": "stdout",
     "output_type": "stream",
     "text": [
      "Дисперсия в 90% объясняется 4 компонентами\n",
      "Объясненная дисперсия равна 92.77%\n"
     ]
    }
   ],
   "source": [
    "# Подсчет количества компонент, объясняющих 90% дисперсии признаков исходного датасета\n",
    "n_components = 0\n",
    "explained_variance = 0\n",
    "for i in PCA_prices.explained_variance_ratio_:\n",
    "    n_components += 1\n",
    "    explained_variance += i\n",
    "    if round(explained_variance * 100) > 90:\n",
    "        break\n",
    "print(f'Дисперсия в 90% объясняется {n_components} компонентами')\n",
    "print(f'Объясненная дисперсия равна {round(explained_variance * 100, 2)}%')"
   ]
  },
  {
   "cell_type": "code",
   "execution_count": 27,
   "id": "dce99f5c",
   "metadata": {},
   "outputs": [],
   "source": [
    "# Преобразование исходного датасета с методом главных компонент\n",
    "df_PCA = PCA_prices.transform(df)"
   ]
  },
  {
   "cell_type": "code",
   "execution_count": 32,
   "id": "ed5413b4",
   "metadata": {
    "scrolled": true
   },
   "outputs": [
    {
     "data": {
      "text/html": [
       "<div>\n",
       "<style scoped>\n",
       "    .dataframe tbody tr th:only-of-type {\n",
       "        vertical-align: middle;\n",
       "    }\n",
       "\n",
       "    .dataframe tbody tr th {\n",
       "        vertical-align: top;\n",
       "    }\n",
       "\n",
       "    .dataframe thead th {\n",
       "        text-align: right;\n",
       "    }\n",
       "</style>\n",
       "<table border=\"1\" class=\"dataframe\">\n",
       "  <thead>\n",
       "    <tr style=\"text-align: right;\">\n",
       "      <th></th>\n",
       "      <th>0</th>\n",
       "      <th>1</th>\n",
       "      <th>2</th>\n",
       "      <th>3</th>\n",
       "      <th>4</th>\n",
       "      <th>5</th>\n",
       "      <th>6</th>\n",
       "      <th>7</th>\n",
       "      <th>8</th>\n",
       "      <th>9</th>\n",
       "    </tr>\n",
       "  </thead>\n",
       "  <tbody>\n",
       "    <tr>\n",
       "      <th>0</th>\n",
       "      <td>-50.902404</td>\n",
       "      <td>17.631677</td>\n",
       "      <td>7.736021</td>\n",
       "      <td>2.596010</td>\n",
       "      <td>2.377569</td>\n",
       "      <td>4.244055</td>\n",
       "      <td>12.883088</td>\n",
       "      <td>3.556570</td>\n",
       "      <td>-5.821974</td>\n",
       "      <td>-1.726040</td>\n",
       "    </tr>\n",
       "    <tr>\n",
       "      <th>1</th>\n",
       "      <td>-52.846909</td>\n",
       "      <td>19.146907</td>\n",
       "      <td>7.272546</td>\n",
       "      <td>4.618575</td>\n",
       "      <td>0.102182</td>\n",
       "      <td>3.935519</td>\n",
       "      <td>11.062930</td>\n",
       "      <td>3.432599</td>\n",
       "      <td>-5.633181</td>\n",
       "      <td>-2.012232</td>\n",
       "    </tr>\n",
       "    <tr>\n",
       "      <th>2</th>\n",
       "      <td>-54.614439</td>\n",
       "      <td>19.927358</td>\n",
       "      <td>8.109958</td>\n",
       "      <td>4.920347</td>\n",
       "      <td>-0.421454</td>\n",
       "      <td>4.555335</td>\n",
       "      <td>10.119224</td>\n",
       "      <td>4.175203</td>\n",
       "      <td>-5.388287</td>\n",
       "      <td>-2.752699</td>\n",
       "    </tr>\n",
       "    <tr>\n",
       "      <th>3</th>\n",
       "      <td>-52.600566</td>\n",
       "      <td>19.941571</td>\n",
       "      <td>6.948113</td>\n",
       "      <td>4.806243</td>\n",
       "      <td>0.319779</td>\n",
       "      <td>5.065505</td>\n",
       "      <td>9.849605</td>\n",
       "      <td>3.266579</td>\n",
       "      <td>-5.974574</td>\n",
       "      <td>-1.922746</td>\n",
       "    </tr>\n",
       "    <tr>\n",
       "      <th>4</th>\n",
       "      <td>-52.370123</td>\n",
       "      <td>22.289064</td>\n",
       "      <td>8.410868</td>\n",
       "      <td>3.833372</td>\n",
       "      <td>-2.464882</td>\n",
       "      <td>4.359897</td>\n",
       "      <td>7.988691</td>\n",
       "      <td>3.452709</td>\n",
       "      <td>-5.745204</td>\n",
       "      <td>-1.875131</td>\n",
       "    </tr>\n",
       "  </tbody>\n",
       "</table>\n",
       "</div>"
      ],
      "text/plain": [
       "           0          1         2         3         4         5          6  \\\n",
       "0 -50.902404  17.631677  7.736021  2.596010  2.377569  4.244055  12.883088   \n",
       "1 -52.846909  19.146907  7.272546  4.618575  0.102182  3.935519  11.062930   \n",
       "2 -54.614439  19.927358  8.109958  4.920347 -0.421454  4.555335  10.119224   \n",
       "3 -52.600566  19.941571  6.948113  4.806243  0.319779  5.065505   9.849605   \n",
       "4 -52.370123  22.289064  8.410868  3.833372 -2.464882  4.359897   7.988691   \n",
       "\n",
       "          7         8         9  \n",
       "0  3.556570 -5.821974 -1.726040  \n",
       "1  3.432599 -5.633181 -2.012232  \n",
       "2  4.175203 -5.388287 -2.752699  \n",
       "3  3.266579 -5.974574 -1.922746  \n",
       "4  3.452709 -5.745204 -1.875131  "
      ]
     },
     "execution_count": 32,
     "metadata": {},
     "output_type": "execute_result"
    }
   ],
   "source": [
    "df_PCA = pd.DataFrame(df_PCA)\n",
    "df_PCA.head(5)"
   ]
  },
  {
   "cell_type": "code",
   "execution_count": 43,
   "id": "7d82c3a0",
   "metadata": {},
   "outputs": [],
   "source": [
    "# Отбор значений первой компоненты\n",
    "first_component = np.expand_dims(df_PCA[0], axis=1)"
   ]
  },
  {
   "cell_type": "markdown",
   "id": "35b0c769",
   "metadata": {},
   "source": [
    "###### Импорт второго датасета (Индекс Доу-Джонса) и расчет корреляции с первой компонентой"
   ]
  },
  {
   "cell_type": "code",
   "execution_count": 39,
   "id": "2773caf7",
   "metadata": {},
   "outputs": [
    {
     "data": {
      "text/html": [
       "<div>\n",
       "<style scoped>\n",
       "    .dataframe tbody tr th:only-of-type {\n",
       "        vertical-align: middle;\n",
       "    }\n",
       "\n",
       "    .dataframe tbody tr th {\n",
       "        vertical-align: top;\n",
       "    }\n",
       "\n",
       "    .dataframe thead th {\n",
       "        text-align: right;\n",
       "    }\n",
       "</style>\n",
       "<table border=\"1\" class=\"dataframe\">\n",
       "  <thead>\n",
       "    <tr style=\"text-align: right;\">\n",
       "      <th></th>\n",
       "      <th>^DJI</th>\n",
       "    </tr>\n",
       "    <tr>\n",
       "      <th>date</th>\n",
       "      <th></th>\n",
       "    </tr>\n",
       "  </thead>\n",
       "  <tbody>\n",
       "    <tr>\n",
       "      <th>2013-09-23</th>\n",
       "      <td>15401.379883</td>\n",
       "    </tr>\n",
       "    <tr>\n",
       "      <th>2013-09-24</th>\n",
       "      <td>15334.589844</td>\n",
       "    </tr>\n",
       "    <tr>\n",
       "      <th>2013-09-25</th>\n",
       "      <td>15273.259766</td>\n",
       "    </tr>\n",
       "    <tr>\n",
       "      <th>2013-09-26</th>\n",
       "      <td>15328.299805</td>\n",
       "    </tr>\n",
       "    <tr>\n",
       "      <th>2013-09-27</th>\n",
       "      <td>15258.240234</td>\n",
       "    </tr>\n",
       "  </tbody>\n",
       "</table>\n",
       "</div>"
      ],
      "text/plain": [
       "                    ^DJI\n",
       "date                    \n",
       "2013-09-23  15401.379883\n",
       "2013-09-24  15334.589844\n",
       "2013-09-25  15273.259766\n",
       "2013-09-26  15328.299805\n",
       "2013-09-27  15258.240234"
      ]
     },
     "execution_count": 39,
     "metadata": {},
     "output_type": "execute_result"
    }
   ],
   "source": [
    "dou_index = pd.read_csv('djia_index.csv', index_col='date')\n",
    "dou_index.head(5)"
   ]
  },
  {
   "cell_type": "code",
   "execution_count": 66,
   "id": "a297c08b",
   "metadata": {
    "scrolled": false
   },
   "outputs": [
    {
     "name": "stdout",
     "output_type": "stream",
     "text": [
      "Корреляция между индексом Доу-Джонса и первой компонентой равна 0.91\n"
     ]
    }
   ],
   "source": [
    "# Расчет корреляции между индексом и первой компонентой\n",
    "correlation = np.corrcoef(first_component.T, dou_index.T)[0, 1]\n",
    "print(f'Корреляция Пирсона между индексом Доу-Джонса и первой компонентой равна {round(correlation, 2)}')"
   ]
  },
  {
   "cell_type": "code",
   "execution_count": 63,
   "id": "ebcd6065",
   "metadata": {},
   "outputs": [
    {
     "name": "stdout",
     "output_type": "stream",
     "text": [
      "Наибольший вес в первой компоненте имеет компания \"V\"\n"
     ]
    }
   ],
   "source": [
    "most_valued_company = df.columns[np.argmax(PCA_prices.components_[0])]\n",
    "print(f'Наибольший вес в первой компоненте имеет компания \"{most_valued_company}\"')"
   ]
  }
 ],
 "metadata": {
  "kernelspec": {
   "display_name": "Python 3 (ipykernel)",
   "language": "python",
   "name": "python3"
  },
  "language_info": {
   "codemirror_mode": {
    "name": "ipython",
    "version": 3
   },
   "file_extension": ".py",
   "mimetype": "text/x-python",
   "name": "python",
   "nbconvert_exporter": "python",
   "pygments_lexer": "ipython3",
   "version": "3.10.1"
  }
 },
 "nbformat": 4,
 "nbformat_minor": 5
}
